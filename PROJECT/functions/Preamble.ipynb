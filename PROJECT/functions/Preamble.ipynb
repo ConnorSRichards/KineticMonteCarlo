{
 "cells": [
  {
   "cell_type": "code",
   "execution_count": null,
   "id": "3c803945-78b4-49d8-ace4-9c3038a06b6b",
   "metadata": {},
   "outputs": [],
   "source": [
    "using Pkg\n",
    "Pkg.activate(dir)\n",
    "using Distributed"
   ]
  },
  {
   "cell_type": "code",
   "execution_count": null,
   "id": "5de873bf-c25c-448f-b998-cda09426fa32",
   "metadata": {},
   "outputs": [],
   "source": [
    "global const multiProcess = (nworkers()>1) ? true : false # only use multiprocessing if run with -p, otherwise use -t threads by default\n",
    "\n",
    "if multiProcess\n",
    "    print(nworkers())\n",
    "    \n",
    "    @everywhere using Pkg\n",
    "    @everywhere Pkg.activate(dir)\n",
    "    @everywhere using Distributed, StatsBase, Statistics, Distributions, Roots, PyPlot, LsqFit, Dates\n",
    "else\n",
    "    print(Threads.nthreads())\n",
    "    \n",
    "    using StatsBase, Statistics, Distributions, Roots, PyPlot, LsqFit, Dates\n",
    "end\n",
    "\n",
    "using Colors, PlotUtils"
   ]
  },
  {
   "cell_type": "code",
   "execution_count": null,
   "id": "dd400955-01a0-4101-a657-96dd93467bbe",
   "metadata": {},
   "outputs": [],
   "source": [
    "# Also useful: Graphs, MetaGraphs, Plots, GraphRecipes"
   ]
  }
 ],
 "metadata": {
  "jupytext": {
   "formats": "ipynb,jl:light"
  },
  "kernelspec": {
   "display_name": "Julia (6 threads) 1.8.2",
   "language": "julia",
   "name": "julia-_6-threads_-1.8"
  },
  "language_info": {
   "file_extension": ".jl",
   "mimetype": "application/julia",
   "name": "julia",
   "version": "1.8.2"
  }
 },
 "nbformat": 4,
 "nbformat_minor": 5
}
