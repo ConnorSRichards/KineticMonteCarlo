{
 "cells": [
  {
   "cell_type": "markdown",
   "id": "400117c7-c102-4da4-83dd-9654fe342055",
   "metadata": {},
   "source": [
    "### Graph plotting"
   ]
  },
  {
   "cell_type": "code",
   "execution_count": null,
   "id": "04c87183-7695-46b1-89c6-878082b8be7c",
   "metadata": {},
   "outputs": [],
   "source": [
    "function PlotGraph(vertices, edges) # plot the graph - NOTE will only nicely plot graphs embeddable into R^2 (i.e. won't show PBCs wel!)\n",
    "    figure()\n",
    "    for e in edges\n",
    "        r1 = vertices[e.∂[1]].x\n",
    "        r2 = vertices[e.∂[2]].x\n",
    "        \n",
    "        plot([r1[1]; r2[1]], [r1[2]; r2[2]], color=(e.σ ? :red : :blue), zorder=1) \n",
    "    end\n",
    "    \n",
    "    for v in vertices\n",
    "       scatter(v.x[1], v.x[2], color=:black, zorder=2) # color=(A(edges,v)<0 ? :yellow : :black)  \n",
    "    end\n",
    "end"
   ]
  },
  {
   "cell_type": "markdown",
   "id": "37e3a214-e512-47cb-8bbc-6aeb9d5e0578",
   "metadata": {},
   "source": [
    "### Graphs.jl plotting"
   ]
  },
  {
   "cell_type": "code",
   "execution_count": null,
   "id": "6377a7ff-e1ce-4500-8dd5-d9f688e4caf5",
   "metadata": {},
   "outputs": [],
   "source": [
    "edgewidth_dict = ones(length(verticesH), length(verticesH))\n",
    "for n in eachindex(b)\n",
    "    i = b[n]\n",
    "    j = (n<length(b)) ? b[n+1] : b[1]\n",
    "    \n",
    "    edgewidth_dict[i, j] = 5\n",
    "    edgewidth_dict[j, i] = 5\n",
    "end"
   ]
  },
  {
   "cell_type": "markdown",
   "id": "825432a5-011d-462c-9c55-6e321cc82f94",
   "metadata": {},
   "source": [
    "### Plotting with errors"
   ]
  },
  {
   "cell_type": "code",
   "execution_count": null,
   "id": "5677b62c-49e7-4b4d-80af-23c9ff0dd2b5",
   "metadata": {},
   "outputs": [],
   "source": [
    "function plotWithError(Y, X, C, YStd = zeros(size(Y)), XStd = zeros(size(X)))    \n",
    "    errorbar(X, Y, xerr=XStd, yerr=YStd, ls=\"None\", marker=\".\", color=C)\n",
    "    # fill_between(X, Y-YStd, Y+YStd, alpha=0.5)\n",
    "end"
   ]
  },
  {
   "cell_type": "markdown",
   "id": "808222af-a1f8-4597-850c-d16bfbbe3376",
   "metadata": {},
   "source": [
    "### Colourmaps"
   ]
  },
  {
   "cell_type": "code",
   "execution_count": null,
   "id": "8914f24d-baaf-42b8-bc29-278e8f79bbf6",
   "metadata": {},
   "outputs": [],
   "source": [
    "function jetmap(N)\n",
    "    c = cgrad(:jet);\n",
    "    return (N==1) ? [(red(c[1]), green(c[1]), blue(c[1]))] : [(red(c[i]), green(c[i]), blue(c[i])) for i in range(0,1,length=N)]\n",
    "end"
   ]
  }
 ],
 "metadata": {
  "jupytext": {
   "encoding": "# -*- coding: utf-8 -*-",
   "formats": "ipynb,jl:light"
  },
  "kernelspec": {
   "display_name": "Julia (6 threads) 1.8.2",
   "language": "julia",
   "name": "julia-_6-threads_-1.8"
  },
  "language_info": {
   "file_extension": ".jl",
   "mimetype": "application/julia",
   "name": "julia",
   "version": "1.8.2"
  }
 },
 "nbformat": 4,
 "nbformat_minor": 5
}
