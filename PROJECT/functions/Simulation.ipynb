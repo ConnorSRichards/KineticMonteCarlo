{
 "cells": [
  {
   "cell_type": "markdown",
   "id": "1b62fb7f-31eb-4a19-91d5-44664b8aa8f2",
   "metadata": {},
   "source": [
    "### Single-Flip Dynamics"
   ]
  },
  {
   "cell_type": "markdown",
   "id": "6d5c5d4e-3a00-44b3-98df-f901caa182e8",
   "metadata": {},
   "source": [
    "#### 8-Vertex"
   ]
  },
  {
   "cell_type": "code",
   "execution_count": null,
   "id": "999c32f1-0238-450c-9b8a-027356d6b397",
   "metadata": {},
   "outputs": [],
   "source": [
    "@everywhere function A(edges, vertex) # calculates A at given vertex for 8-vertex model\n",
    "    A = 1\n",
    "    for α in vertex.δ # product of all adjacent spins\n",
    "        A *= (-1)^edges[α].σ\n",
    "    end\n",
    "\n",
    "    return A\n",
    "end"
   ]
  },
  {
   "cell_type": "markdown",
   "id": "1164f8b9-f1ed-4401-9902-8c7e1225066a",
   "metadata": {},
   "source": [
    "#### 6-Vertex"
   ]
  },
  {
   "cell_type": "code",
   "execution_count": null,
   "id": "57488ce0-8ca6-410c-904e-4b14f491c3e9",
   "metadata": {},
   "outputs": [],
   "source": [
    "@everywhere function Atilde(edges, vertex) # calculates A at given vertex for 6-vertex model\n",
    "    A = 0\n",
    "    for α in vertex.δ # product of all adjacent spins\n",
    "        A += (-1)^edges[α].σ\n",
    "    end\n",
    "    \n",
    "    return A^2\n",
    "end"
   ]
  },
  {
   "cell_type": "code",
   "execution_count": null,
   "id": "9e5d2e33-165d-4329-9a06-139fe00b9c53",
   "metadata": {},
   "outputs": [],
   "source": [
    "@everywhere function B(edges, vertex, β) # calculates B at given vertex for 6-vertex model\n",
    "    B = 0\n",
    "    for α in vertex.δ # sum of all adjacent spins EXCEPT β\n",
    "        B += (α!=β) ? (-1)^edges[α].σ : 0\n",
    "    end\n",
    "    \n",
    "    return B\n",
    "end"
   ]
  },
  {
   "cell_type": "markdown",
   "id": "0f8148df-3eab-4eab-854a-48b868e2a438",
   "metadata": {},
   "source": [
    "#### Both"
   ]
  },
  {
   "cell_type": "code",
   "execution_count": null,
   "id": "6a591a85-0e4c-4e5e-95e3-0e378ee3c31b",
   "metadata": {},
   "outputs": [],
   "source": [
    "@everywhere function ΔE_flip(vertices, edges, β, 𝒽)\n",
    "    if sixVertex\n",
    "        return -4*(-1)^edges[β].σ*(B(edges, vertices[edges[β].∂[1]], β) + B(edges, vertices[edges[β].∂[2]], β)) + 2*𝒽*(-1)^edges[β].σ\n",
    "    else\n",
    "        return 2*(A(edges, vertices[edges[β].∂[1]]) + A(edges, vertices[edges[β].∂[2]])) + 2*𝒽*(-1)^edges[β].σ\n",
    "    end\n",
    "end"
   ]
  },
  {
   "cell_type": "code",
   "execution_count": null,
   "id": "83d5f237-fa61-4651-bec8-2c9c4d8ec2b0",
   "metadata": {},
   "outputs": [],
   "source": [
    "@everywhere function Δj_flip(vertices, edges, β)\n",
    "    if sixVertex\n",
    "        Bi = B(edges, vertices[edges[β].∂[1]], β)\n",
    "        Bj = B(edges, vertices[edges[β].∂[2]], β)\n",
    "        \n",
    "        return -2*(-1)^edges[β].σ*(Bj-Bi)\n",
    "    else\n",
    "        Ai = A(edges, vertices[edges[β].∂[1]])\n",
    "        Aj = A(edges, vertices[edges[β].∂[2]])\n",
    "        \n",
    "        return (Aj-Ai)\n",
    "    end\n",
    "end"
   ]
  },
  {
   "cell_type": "markdown",
   "id": "315a5cfa-3666-466e-ab4c-3dac34046373",
   "metadata": {},
   "source": [
    "### Double-Flip Dynamics"
   ]
  },
  {
   "cell_type": "code",
   "execution_count": null,
   "id": "910441da-f2d0-4761-a086-27425ca9b5b5",
   "metadata": {},
   "outputs": [],
   "source": [
    "@everywhere function ΔE_2flip(vertices, edges, 𝜷, 𝒊, 𝒽)\n",
    "    if 𝜷[1] == 𝜷[2]\n",
    "        return 0\n",
    "    end\n",
    "    return 2*(A(edges, vertices[𝒊[1]]) + A(edges, vertices[𝒊[2]])) + 2*𝒽*((-1)^edges[𝜷[1]].σ + (-1)^edges[𝜷[2]].σ) \n",
    "end"
   ]
  },
  {
   "cell_type": "code",
   "execution_count": null,
   "id": "329a252b-c04e-4d9f-be3b-a210a8a07520",
   "metadata": {},
   "outputs": [],
   "source": [
    "@everywhere function Δj_2flip(vertices, edges, 𝜷, 𝒊, 𝒽) # current flow from 𝒊[1] to 𝒊[2] via 𝜷[1] then 𝜷[2]\n",
    "    return (A(edges, vertices[𝒊[2]]) - A(edges, vertices[𝒊[1]])) + 0.5*𝒽*((-1)^edges[𝜷[2]].σ - (-1)^edges[𝜷[1]].σ)\n",
    "end"
   ]
  }
 ],
 "metadata": {
  "jupytext": {
   "formats": "ipynb,auto:light"
  },
  "kernelspec": {
   "display_name": "Julia (6 threads) 1.8.2",
   "language": "julia",
   "name": "julia-_6-threads_-1.8"
  },
  "language_info": {
   "file_extension": ".jl",
   "mimetype": "application/julia",
   "name": "julia",
   "version": "1.8.2"
  }
 },
 "nbformat": 4,
 "nbformat_minor": 5
}
