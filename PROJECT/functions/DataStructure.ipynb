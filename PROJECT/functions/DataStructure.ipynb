{
 "cells": [
  {
   "cell_type": "markdown",
   "id": "c47cdea8-b1cb-4778-89b8-e836552f9e98",
   "metadata": {},
   "source": [
    "### Data structure for an arbitrary cell"
   ]
  },
  {
   "cell_type": "code",
   "execution_count": null,
   "id": "c8b4e018-66bb-4c25-a363-e6d87e04d2ea",
   "metadata": {},
   "outputs": [],
   "source": [
    "@everywhere mutable struct Cell\n",
    "    σ::Bool # false = +1, true = -1\n",
    "    D::Float64 # demon energy in units of δE\n",
    "    x::Array{Float64} # coords\n",
    "    ∂::Array{UInt32} # boundary\n",
    "    δ::Array{UInt32} # coboundary\n",
    "end"
   ]
  },
  {
   "cell_type": "markdown",
   "id": "d9376c66-71f6-4567-95c8-645588a6b9d1",
   "metadata": {},
   "source": [
    "### Functions to generate an arbitary lattice with vertices (0-cells) and edges (1-cells)"
   ]
  },
  {
   "cell_type": "code",
   "execution_count": null,
   "id": "fbeefeb8-fdd8-4492-9576-4b71b74ae62c",
   "metadata": {},
   "outputs": [],
   "source": [
    "@everywhere function CreateCell(Vs0, Es0, I, X)\n",
    "    Vs = deepcopy(Vs0)\n",
    "    Es = deepcopy(Es0)\n",
    "    \n",
    "    for v in Vs\n",
    "        v.x += X\n",
    "        v.δ .+= length(Es)*(I-1)\n",
    "    end\n",
    "    for e in Es\n",
    "        e.∂ .+= length(Vs)*(I-1)\n",
    "    end\n",
    "    \n",
    "    return Vs, Es\n",
    "end"
   ]
  },
  {
   "cell_type": "code",
   "execution_count": null,
   "id": "a79117e1-fc0f-4d22-8818-5fc97b21f46d",
   "metadata": {},
   "outputs": [],
   "source": [
    "@everywhere function LatticeGrid(L, PBC, Basis)\n",
    "    \n",
    "    Vs0, Es0, Bonds = Basis\n",
    "    nv = length(Vs0)\n",
    "    ne = length(Es0)\n",
    "    \n",
    "    @assert length(L)==length(PBC)\n",
    "    dim = length(L)\n",
    "    \n",
    "    N = prod(L) # number of unit cells\n",
    "    \n",
    "    vertices = [Cell(false, 0, [], [], []) for j in 1:nv*N] # list of vertices\n",
    "    edges = [Cell(false, 0, [], [], []) for α in 1:ne*N] # list of edges\n",
    "    \n",
    "    # define indexing convention\n",
    "    function X_to_I(X, L)\n",
    "        I = X[1]\n",
    "        for d in 2:length(L)\n",
    "            I += prod(L[1:d-1]) * (X[d]-1)\n",
    "        end\n",
    "        return I\n",
    "    end\n",
    "\n",
    "    function I_to_X(I, L)\n",
    "        X = zeros(Int, length(L))\n",
    "        J = I\n",
    "        for d in 1:length(L)\n",
    "            J, X[d] = divrem(J-1,L[d]) .+ (1,1)\n",
    "        end\n",
    "        return X\n",
    "    end\n",
    "\n",
    "    \n",
    "    # place down all unit cells without connecting dangling edges\n",
    "    for I in 1:N\n",
    "        X = I_to_X(I, L)\n",
    "        Vs, Es = CreateCell(Vs0, Es0, I, X)\n",
    "        \n",
    "        vertices[nv*(I-1)+1:nv*I] .= Vs\n",
    "        edges[ne*(I-1)+1:ne*I] .= Es\n",
    "    end\n",
    "        \n",
    "    # go back through and link up dangling edges vertices and edges arrays\n",
    "    for I in 1:N\n",
    "        X = I_to_X(I, L)\n",
    "        \n",
    "        # attach edges (in +ve quadrant)\n",
    "        for Bond in Bonds\n",
    "            dir = Bond[2] # relative displacement of linked cell, each a vector ∈ {0,±1}\n",
    "            ev = Bond[1] # tuple of the edge and the vertex to be linked (within a unit cell)\n",
    "            \n",
    "            ifLink = true\n",
    "            for d in 1:dim # if at a boundary and OBCs then don't link up the edge\n",
    "                if dir[d]<0 && X[d]==1 && !PBC[d]\n",
    "                    ifLink = false\n",
    "                elseif dir[d]>0 && X[d]==L[d] && !PBC[d]\n",
    "                    ifLink = false\n",
    "                end\n",
    "            end\n",
    "            \n",
    "            if ifLink\n",
    "                Y = copy(X)\n",
    "                for d in 1:dim\n",
    "                    Y[d] = (dir[d]<0 && X[d]==1) ? L[d] : ((dir[d]>0 && X[d]==L[d]) ? 1 : X[d]+dir[d])\n",
    "                end\n",
    "                J = X_to_I(Y, L)\n",
    "                \n",
    "                push!(edges[ev[1]+ne*(I-1)].∂, ev[2]+nv*(J-1))\n",
    "                push!(vertices[ev[2]+nv*(J-1)].δ, ev[1]+ne*(I-1))\n",
    "            end\n",
    "        end\n",
    "    end\n",
    "    \n",
    "    # if there are any remaining dangling edges, they must be on an OBC => kill them\n",
    "    if !all(PBC)\n",
    "        toKill = []\n",
    "        shifts = zeros(length(edges))\n",
    "        for α in eachindex(edges)\n",
    "            if length(edges[α].∂) < 2\n",
    "                push!(toKill, α)\n",
    "                shifts[α:end] .-= 1\n",
    "            end\n",
    "        end\n",
    "        \n",
    "        deleteat!(edges, toKill)\n",
    "\n",
    "        # fix the edges in the coboundary of each vertex\n",
    "        for v in vertices\n",
    "            toKillv = []\n",
    "            for i in eachindex(v.δ)\n",
    "                if v.δ[i] in toKill\n",
    "                    push!(toKillv, i)\n",
    "                end\n",
    "                v.δ[i] += shifts[v.δ[i]]\n",
    "            end\n",
    "            deleteat!(v.δ, toKillv)\n",
    "        end\n",
    "    end\n",
    "    \n",
    "    # calculate edge positions from vertex positions\n",
    "    for e in edges\n",
    "        e.x = zeros(length(L))\n",
    "        for i in e.∂\n",
    "            e.x += vertices[i].x\n",
    "        end\n",
    "        e.x ./= length(e.∂)\n",
    "    end\n",
    "    \n",
    "    return vertices, edges\n",
    "end"
   ]
  },
  {
   "cell_type": "markdown",
   "id": "e20c20eb-76cc-4779-82d4-8ea560001b72",
   "metadata": {},
   "source": [
    "### Different Unit Cells"
   ]
  },
  {
   "cell_type": "code",
   "execution_count": null,
   "id": "96b21579-86cb-42b1-b8e7-60ef93b26a60",
   "metadata": {},
   "outputs": [],
   "source": [
    "@everywhere function CubicBasis(dim)\n",
    "    Nv = 1\n",
    "    Ne = dim\n",
    "    \n",
    "    Vs = [Cell(false, 0, [], [], []) for j in 1:Nv]\n",
    "    Es = [Cell(false, 0, [], [], []) for α in 1:Ne]\n",
    "    \n",
    "    Vs[1].x = zeros(dim)\n",
    "    \n",
    "    Bev = []\n",
    "    for d in 1:dim\n",
    "        push!(Es[d].∂, 1)\n",
    "        push!(Vs[1].δ, d)\n",
    "        dir = zeros(dim)\n",
    "        dir[d] = 1\n",
    "        push!(Bev, [(d, 1), dir])\n",
    "    end\n",
    "    \n",
    "    return (Vs, Es, Bev)\n",
    "end"
   ]
  },
  {
   "cell_type": "code",
   "execution_count": null,
   "id": "5f5ac2a6-b266-4ebb-943a-b1b10dd6ff7a",
   "metadata": {},
   "outputs": [],
   "source": [
    "# particularly useful function\n",
    "@everywhere CubicGrid = (L, PBC) -> LatticeGrid(L, PBC, CubicBasis(length(L)))"
   ]
  },
  {
   "cell_type": "markdown",
   "id": "23b1fe87-898f-4294-b2a4-b5fe37e3ed88",
   "metadata": {},
   "source": [
    "### Useful Functions"
   ]
  },
  {
   "cell_type": "code",
   "execution_count": null,
   "id": "48d7efc4-5328-42d0-ac98-1981b6ebc77e",
   "metadata": {},
   "outputs": [],
   "source": [
    "@everywhere function NearestNeighbourEdge(vertices, edges, α)\n",
    "    neighbours = []\n",
    "    for i in edges[α].∂\n",
    "        δi = vertices[i].δ # coboundary of vertex i\n",
    "        append!(neighbours, δi) # append coboundary to nn list\n",
    "    end\n",
    "    \n",
    "    unique!(neighbours) # remove repeats\n",
    "    deleteat!(neighbours, findfirst(neighbours .== α)) # remove the edge α itself!\n",
    "    \n",
    "    return neighbours\n",
    "end"
   ]
  },
  {
   "cell_type": "code",
   "execution_count": null,
   "id": "835929b2-f4ad-4b49-8c61-740c66ee1232",
   "metadata": {},
   "outputs": [],
   "source": [
    "function RemoveEdges(vertices, edges, αs)\n",
    "    \n",
    "    for α in αs # for each edge α\n",
    "        toKill = []\n",
    "        for i in edges[α].∂ # for each vertex connected to α...\n",
    "\n",
    "            deleteat!(vertices[i].δ ,findfirst(vertices[i].δ .== α)) # remove α from its coboundary\n",
    "            push!(toKill, i)\n",
    "        end\n",
    "\n",
    "        edges[α].∂ = [] # set boundary of α to 0\n",
    "    end\n",
    "end"
   ]
  },
  {
   "cell_type": "markdown",
   "id": "18bdc54e-8178-4249-915e-4781d9d03585",
   "metadata": {},
   "source": [
    "### Interface with Graphs.jl package"
   ]
  },
  {
   "cell_type": "raw",
   "id": "89ec132f-cb75-4a13-a6e7-5c8fd8abe69b",
   "metadata": {},
   "source": [
    "using MetaGraphs, Plots, GraphRecipes"
   ]
  },
  {
   "cell_type": "raw",
   "id": "001d8f16-90a6-4edc-addf-f1552c59fbd6",
   "metadata": {},
   "source": [
    "function LatticeToGraph(vertices, edges)\n",
    "    # converts my custom data structure of vertices and edges to a structure matching the Graphs package\n",
    "    \n",
    "    elist = []\n",
    "    for edge in edges\n",
    "        push!(elist, Tuple(edge.∂))\n",
    "    end\n",
    "    \n",
    "    G = SimpleGraph(Graphs.SimpleEdge.(elist));\n",
    "    \n",
    "    #G = MetaGraph(G)\n",
    "    #for i in eachindex(vertices)\n",
    "    #    set_prop!(G, i, :x, vertices[i].x)\n",
    "    #end\n",
    "    #for edge in edges\n",
    "    #    set_prop!(G, Edge(edge.∂...), :x, edge.x)\n",
    "    #    set_prop!(G, Edge(edge.∂...), :σ, edge.σ)\n",
    "    #    set_prop!(G, Edge(edge.∂...), :D, edge.D)\n",
    "    #end\n",
    "    \n",
    "    return G\n",
    "end"
   ]
  },
  {
   "cell_type": "raw",
   "id": "41b78066-29d3-4a15-8a58-b0fe1b40c47b",
   "metadata": {},
   "source": [
    "Can then freely use e.g. ``graphplot(G, curves=false)``"
   ]
  }
 ],
 "metadata": {
  "jupytext": {
   "encoding": "# -*- coding: utf-8 -*-",
   "formats": "ipynb,jl:light"
  },
  "kernelspec": {
   "display_name": "Julia (6 threads) 1.8.2",
   "language": "julia",
   "name": "julia-_6-threads_-1.8"
  },
  "language_info": {
   "file_extension": ".jl",
   "mimetype": "application/julia",
   "name": "julia",
   "version": "1.8.2"
  }
 },
 "nbformat": 4,
 "nbformat_minor": 5
}
