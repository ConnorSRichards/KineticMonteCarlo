{
 "cells": [
  {
   "cell_type": "code",
   "execution_count": 1,
   "id": "d65442b0-3541-464b-bf7c-5871a1b6bf98",
   "metadata": {},
   "outputs": [
    {
     "name": "stderr",
     "output_type": "stream",
     "text": [
      "\u001b[32m\u001b[1m  Activating\u001b[22m\u001b[39m project at `C:\\Users\\conno\\Documents\\CAMBRIDGE\\Part III\\Comp Project\\JULIA\\PROJECT`\n"
     ]
    }
   ],
   "source": [
    "dir = dirname(pwd()) * \"/PROJECT\"\n",
    "\n",
    "using Pkg\n",
    "Pkg.activate(dir)\n",
    "\n",
    "using Distributed"
   ]
  },
  {
   "cell_type": "code",
   "execution_count": 2,
   "id": "bf4c282d-4fab-4020-90be-47edc60fd7fe",
   "metadata": {},
   "outputs": [
    {
     "name": "stdout",
     "output_type": "stream",
     "text": [
      "6"
     ]
    }
   ],
   "source": [
    "global const multiProcess = (nworkers()>1) ? true : false # only use multiprocessing if run with -p, otherwise use -t threads by default\n",
    "\n",
    "if multiProcess\n",
    "    print(nworkers())\n",
    "    \n",
    "    @everywhere using Pkg\n",
    "    @everywhere Pkg.activate(dir)\n",
    "    @everywhere using Distributed, StatsBase, Statistics, Distributions, Roots, PyPlot, LsqFit, Dates # , ProfileVega # , Bootstrap #, ProgressMeter, ProfileVega, JLD\n",
    "else\n",
    "    print(Threads.nthreads())\n",
    "    \n",
    "    using StatsBase, Statistics, Distributions, Roots, PyPlot, LsqFit, Dates # , ProfileVega # , Bootstrap #, ProgressMeter, ProfileVega, JLD\n",
    "end\n",
    "\n",
    "using Colors, PlotUtils, Graphs"
   ]
  },
  {
   "cell_type": "code",
   "execution_count": 3,
   "id": "5db3f3f9-9662-4285-ab4a-31b35ad4c3cb",
   "metadata": {},
   "outputs": [],
   "source": [
    "@everywhere global const sixVertex::Bool = false\n",
    "@everywhere global const twoFlip::Bool = true\n",
    "@everywhere global const δE::Int = sixVertex ? 8 : 4"
   ]
  },
  {
   "cell_type": "code",
   "execution_count": 11,
   "id": "793db378-fa17-41b5-910b-540275206be5",
   "metadata": {},
   "outputs": [],
   "source": [
    "@everywhere include(dir * \"/functions/DataStructure.jl\")\n",
    "@everywhere include(dir * \"/functions/Plotting.jl\")\n",
    "@everywhere include(dir * \"/functions/Statistics.jl\")\n",
    "@everywhere include(dir * \"/functions/Simulation.jl\")"
   ]
  },
  {
   "cell_type": "code",
   "execution_count": 12,
   "id": "d633056e-fe1a-43eb-bf8f-3d9df2b2a8c8",
   "metadata": {},
   "outputs": [
    {
     "ename": "LoadError",
     "evalue": "TaskFailedException\n\n\u001b[91m    nested task error: \u001b[39mSystemError: opening file \"C:\\\\Users\\\\conno\\\\Documents\\\\CAMBRIDGE\\\\Part III\\\\Comp Project\\\\JULIA\\\\PROJECT\\\\functions\\\\MicroKubo.jl\": No such file or directory\n    Stacktrace:\n      [1] \u001b[0m\u001b[1msystemerror\u001b[22m\u001b[0m\u001b[1m(\u001b[22m\u001b[90mp\u001b[39m::\u001b[0mString, \u001b[90merrno\u001b[39m::\u001b[0mInt32; \u001b[90mextrainfo\u001b[39m::\u001b[0mNothing\u001b[0m\u001b[1m)\u001b[22m\n    \u001b[90m    @ \u001b[39m\u001b[90mBase\u001b[39m \u001b[90m.\\\u001b[39m\u001b[90m\u001b[4merror.jl:176\u001b[24m\u001b[39m\n      [2] \u001b[0m\u001b[1m#systemerror#80\u001b[22m\n    \u001b[90m    @ \u001b[39m\u001b[90m.\\\u001b[39m\u001b[90m\u001b[4merror.jl:175\u001b[24m\u001b[39m\u001b[90m [inlined]\u001b[39m\n      [3] \u001b[0m\u001b[1msystemerror\u001b[22m\n    \u001b[90m    @ \u001b[39m\u001b[90m.\\\u001b[39m\u001b[90m\u001b[4merror.jl:175\u001b[24m\u001b[39m\u001b[90m [inlined]\u001b[39m\n      [4] \u001b[0m\u001b[1mopen\u001b[22m\u001b[0m\u001b[1m(\u001b[22m\u001b[90mfname\u001b[39m::\u001b[0mString; \u001b[90mlock\u001b[39m::\u001b[0mBool, \u001b[90mread\u001b[39m::\u001b[0mNothing, \u001b[90mwrite\u001b[39m::\u001b[0mNothing, \u001b[90mcreate\u001b[39m::\u001b[0mNothing, \u001b[90mtruncate\u001b[39m::\u001b[0mNothing, \u001b[90mappend\u001b[39m::\u001b[0mNothing\u001b[0m\u001b[1m)\u001b[22m\n    \u001b[90m    @ \u001b[39m\u001b[90mBase\u001b[39m \u001b[90m.\\\u001b[39m\u001b[90m\u001b[4miostream.jl:293\u001b[24m\u001b[39m\n      [5] \u001b[0m\u001b[1mopen\u001b[22m\n    \u001b[90m    @ \u001b[39m\u001b[90m.\\\u001b[39m\u001b[90m\u001b[4miostream.jl:275\u001b[24m\u001b[39m\u001b[90m [inlined]\u001b[39m\n      [6] \u001b[0m\u001b[1mopen\u001b[22m\u001b[0m\u001b[1m(\u001b[22m\u001b[90mf\u001b[39m::\u001b[0mBase.var\"#387#388\"\u001b[90m{String}\u001b[39m, \u001b[90margs\u001b[39m::\u001b[0mString; \u001b[90mkwargs\u001b[39m::\u001b[0mBase.Pairs\u001b[90m{Symbol, Union{}, Tuple{}, NamedTuple{(), Tuple{}}}\u001b[39m\u001b[0m\u001b[1m)\u001b[22m\n    \u001b[90m    @ \u001b[39m\u001b[90mBase\u001b[39m \u001b[90m.\\\u001b[39m\u001b[90m\u001b[4mio.jl:382\u001b[24m\u001b[39m\n      [7] \u001b[0m\u001b[1mopen\u001b[22m\n    \u001b[90m    @ \u001b[39m\u001b[90m.\\\u001b[39m\u001b[90m\u001b[4mio.jl:381\u001b[24m\u001b[39m\u001b[90m [inlined]\u001b[39m\n      [8] \u001b[0m\u001b[1mread\u001b[22m\n    \u001b[90m    @ \u001b[39m\u001b[90m.\\\u001b[39m\u001b[90m\u001b[4mio.jl:462\u001b[24m\u001b[39m\u001b[90m [inlined]\u001b[39m\n      [9] \u001b[0m\u001b[1m_include\u001b[22m\u001b[0m\u001b[1m(\u001b[22m\u001b[90mmapexpr\u001b[39m::\u001b[0mFunction, \u001b[90mmod\u001b[39m::\u001b[0mModule, \u001b[90m_path\u001b[39m::\u001b[0mString\u001b[0m\u001b[1m)\u001b[22m\n    \u001b[90m    @ \u001b[39m\u001b[90mBase\u001b[39m \u001b[90m.\\\u001b[39m\u001b[90m\u001b[4mloading.jl:1484\u001b[24m\u001b[39m\n     [10] \u001b[0m\u001b[1minclude\u001b[22m\u001b[0m\u001b[1m(\u001b[22m\u001b[90mfname\u001b[39m::\u001b[0mString\u001b[0m\u001b[1m)\u001b[22m\n    \u001b[90m    @ \u001b[39m\u001b[90mBase.MainInclude\u001b[39m \u001b[90m.\\\u001b[39m\u001b[90m\u001b[4mclient.jl:476\u001b[24m\u001b[39m\n     [11] top-level scope\n    \u001b[90m    @ \u001b[39m\u001b[90m\u001b[4mnone:1\u001b[24m\u001b[39m\n     [12] \u001b[0m\u001b[1meval\u001b[22m\n    \u001b[90m    @ \u001b[39m\u001b[90m.\\\u001b[39m\u001b[90m\u001b[4mboot.jl:368\u001b[24m\u001b[39m\u001b[90m [inlined]\u001b[39m\n     [13] \u001b[0m\u001b[1m(::Distributed.var\"#172#174\"{Module, Expr})\u001b[22m\u001b[0m\u001b[1m(\u001b[22m\u001b[0m\u001b[1m)\u001b[22m\n    \u001b[90m    @ \u001b[39m\u001b[35mDistributed\u001b[39m \u001b[90m.\\\u001b[39m\u001b[90m\u001b[4mtask.jl:484\u001b[24m\u001b[39m",
     "output_type": "error",
     "traceback": [
      "TaskFailedException\n\n\u001b[91m    nested task error: \u001b[39mSystemError: opening file \"C:\\\\Users\\\\conno\\\\Documents\\\\CAMBRIDGE\\\\Part III\\\\Comp Project\\\\JULIA\\\\PROJECT\\\\functions\\\\MicroKubo.jl\": No such file or directory\n    Stacktrace:\n      [1] \u001b[0m\u001b[1msystemerror\u001b[22m\u001b[0m\u001b[1m(\u001b[22m\u001b[90mp\u001b[39m::\u001b[0mString, \u001b[90merrno\u001b[39m::\u001b[0mInt32; \u001b[90mextrainfo\u001b[39m::\u001b[0mNothing\u001b[0m\u001b[1m)\u001b[22m\n    \u001b[90m    @ \u001b[39m\u001b[90mBase\u001b[39m \u001b[90m.\\\u001b[39m\u001b[90m\u001b[4merror.jl:176\u001b[24m\u001b[39m\n      [2] \u001b[0m\u001b[1m#systemerror#80\u001b[22m\n    \u001b[90m    @ \u001b[39m\u001b[90m.\\\u001b[39m\u001b[90m\u001b[4merror.jl:175\u001b[24m\u001b[39m\u001b[90m [inlined]\u001b[39m\n      [3] \u001b[0m\u001b[1msystemerror\u001b[22m\n    \u001b[90m    @ \u001b[39m\u001b[90m.\\\u001b[39m\u001b[90m\u001b[4merror.jl:175\u001b[24m\u001b[39m\u001b[90m [inlined]\u001b[39m\n      [4] \u001b[0m\u001b[1mopen\u001b[22m\u001b[0m\u001b[1m(\u001b[22m\u001b[90mfname\u001b[39m::\u001b[0mString; \u001b[90mlock\u001b[39m::\u001b[0mBool, \u001b[90mread\u001b[39m::\u001b[0mNothing, \u001b[90mwrite\u001b[39m::\u001b[0mNothing, \u001b[90mcreate\u001b[39m::\u001b[0mNothing, \u001b[90mtruncate\u001b[39m::\u001b[0mNothing, \u001b[90mappend\u001b[39m::\u001b[0mNothing\u001b[0m\u001b[1m)\u001b[22m\n    \u001b[90m    @ \u001b[39m\u001b[90mBase\u001b[39m \u001b[90m.\\\u001b[39m\u001b[90m\u001b[4miostream.jl:293\u001b[24m\u001b[39m\n      [5] \u001b[0m\u001b[1mopen\u001b[22m\n    \u001b[90m    @ \u001b[39m\u001b[90m.\\\u001b[39m\u001b[90m\u001b[4miostream.jl:275\u001b[24m\u001b[39m\u001b[90m [inlined]\u001b[39m\n      [6] \u001b[0m\u001b[1mopen\u001b[22m\u001b[0m\u001b[1m(\u001b[22m\u001b[90mf\u001b[39m::\u001b[0mBase.var\"#387#388\"\u001b[90m{String}\u001b[39m, \u001b[90margs\u001b[39m::\u001b[0mString; \u001b[90mkwargs\u001b[39m::\u001b[0mBase.Pairs\u001b[90m{Symbol, Union{}, Tuple{}, NamedTuple{(), Tuple{}}}\u001b[39m\u001b[0m\u001b[1m)\u001b[22m\n    \u001b[90m    @ \u001b[39m\u001b[90mBase\u001b[39m \u001b[90m.\\\u001b[39m\u001b[90m\u001b[4mio.jl:382\u001b[24m\u001b[39m\n      [7] \u001b[0m\u001b[1mopen\u001b[22m\n    \u001b[90m    @ \u001b[39m\u001b[90m.\\\u001b[39m\u001b[90m\u001b[4mio.jl:381\u001b[24m\u001b[39m\u001b[90m [inlined]\u001b[39m\n      [8] \u001b[0m\u001b[1mread\u001b[22m\n    \u001b[90m    @ \u001b[39m\u001b[90m.\\\u001b[39m\u001b[90m\u001b[4mio.jl:462\u001b[24m\u001b[39m\u001b[90m [inlined]\u001b[39m\n      [9] \u001b[0m\u001b[1m_include\u001b[22m\u001b[0m\u001b[1m(\u001b[22m\u001b[90mmapexpr\u001b[39m::\u001b[0mFunction, \u001b[90mmod\u001b[39m::\u001b[0mModule, \u001b[90m_path\u001b[39m::\u001b[0mString\u001b[0m\u001b[1m)\u001b[22m\n    \u001b[90m    @ \u001b[39m\u001b[90mBase\u001b[39m \u001b[90m.\\\u001b[39m\u001b[90m\u001b[4mloading.jl:1484\u001b[24m\u001b[39m\n     [10] \u001b[0m\u001b[1minclude\u001b[22m\u001b[0m\u001b[1m(\u001b[22m\u001b[90mfname\u001b[39m::\u001b[0mString\u001b[0m\u001b[1m)\u001b[22m\n    \u001b[90m    @ \u001b[39m\u001b[90mBase.MainInclude\u001b[39m \u001b[90m.\\\u001b[39m\u001b[90m\u001b[4mclient.jl:476\u001b[24m\u001b[39m\n     [11] top-level scope\n    \u001b[90m    @ \u001b[39m\u001b[90m\u001b[4mnone:1\u001b[24m\u001b[39m\n     [12] \u001b[0m\u001b[1meval\u001b[22m\n    \u001b[90m    @ \u001b[39m\u001b[90m.\\\u001b[39m\u001b[90m\u001b[4mboot.jl:368\u001b[24m\u001b[39m\u001b[90m [inlined]\u001b[39m\n     [13] \u001b[0m\u001b[1m(::Distributed.var\"#172#174\"{Module, Expr})\u001b[22m\u001b[0m\u001b[1m(\u001b[22m\u001b[0m\u001b[1m)\u001b[22m\n    \u001b[90m    @ \u001b[39m\u001b[35mDistributed\u001b[39m \u001b[90m.\\\u001b[39m\u001b[90m\u001b[4mtask.jl:484\u001b[24m\u001b[39m",
      "",
      "Stacktrace:",
      " [1] sync_end(c::Channel{Any})",
      "   @ Base .\\task.jl:436",
      " [2] macro expansion",
      "   @ .\\task.jl:455 [inlined]",
      " [3] remotecall_eval(m::Module, procs::Vector{Int64}, ex::Expr)",
      "   @ Distributed C:\\Users\\conno\\AppData\\Local\\Programs\\Julia-1.8.2\\share\\julia\\stdlib\\v1.8\\Distributed\\src\\macros.jl:219",
      " [4] top-level scope",
      "   @ C:\\Users\\conno\\AppData\\Local\\Programs\\Julia-1.8.2\\share\\julia\\stdlib\\v1.8\\Distributed\\src\\macros.jl:203"
     ]
    }
   ],
   "source": [
    "@everywhere include(dir * \"/functions/simulationFunctions/MicroKubo.jl\")"
   ]
  },
  {
   "cell_type": "code",
   "execution_count": 6,
   "id": "01d703cd-65c6-4d2e-9f80-bbfe90ba585b",
   "metadata": {},
   "outputs": [],
   "source": [
    "L = [10, 10]\n",
    "PBC = [true, true]\n",
    "therm_runtime = 1000\n",
    "runtime = 1000\n",
    "num_histories = 10\n",
    "tau = 2:floor(Int64, 0.75*runtime)\n",
    "𝒽 = range(0.0, 2.0, length=7)\n",
    "\n",
    "T = range(0.01, 10.0, length=20);"
   ]
  },
  {
   "cell_type": "code",
   "execution_count": 9,
   "id": "decfe4e1-d773-40d7-baf3-514af1d7c5a3",
   "metadata": {},
   "outputs": [
    {
     "ename": "LoadError",
     "evalue": "UndefVarError: MicroKuboSetup not defined",
     "output_type": "error",
     "traceback": [
      "UndefVarError: MicroKuboSetup not defined",
      "",
      "Stacktrace:",
      " [1] top-level scope",
      "   @ .\\In[9]:7"
     ]
    }
   ],
   "source": [
    "pairCount = zeros(Int64, length(T), length(𝒽), num_histories)\n",
    "\n",
    "for i in 1:num_histories\n",
    "    for j in eachindex(T)\n",
    "        for k in eachindex(𝒽)\n",
    "            vertices, edges = CubicGrid(L, PBC);\n",
    "            MicroKuboSetup(vertices, edges, therm_runtime, T[j], 𝒽, false)\n",
    "\n",
    "            # Find all particles\n",
    "            prtclIndices = []\n",
    "            for (i,v) in enumerate(vertices)\n",
    "                Ai = A(edges, v)\n",
    "                if Ai < 0\n",
    "                    push!(prtclIndices, i)\n",
    "                end\n",
    "            end\n",
    "\n",
    "            # Find pairs\n",
    "\n",
    "            pairCount = 0\n",
    "            for i in prtclIndices\n",
    "                for j in prtclIndices\n",
    "                    if i != j\n",
    "                        Δ = vertices[i].x - vertices[j].x\n",
    "                        D = 0  \n",
    "                        # correct for PBCs\n",
    "                        for d in 1:length(Δ)\n",
    "                            Δ[d] /= (abs(Δ[d])==L[d]-1) ? -abs(Δ[d]) : 1\n",
    "                            D += Δ[d]^2\n",
    "                        end\n",
    "\n",
    "                        if D == 1\n",
    "                            pairCount[k,j,i] += 1\n",
    "                        end\n",
    "                    end\n",
    "                end\n",
    "            end\n",
    "\n",
    "            #pairCount[k,j,i] /= 2 # correct for 2x-counting\n",
    "            pairCount[k,j,i] /= length(prtclIndices) # *fraction* of particles that are in pairs\n",
    "        end\n",
    "    end\n",
    "end"
   ]
  },
  {
   "cell_type": "code",
   "execution_count": 10,
   "id": "a4e1a4bc-d6d7-4615-a66a-7d62b0a87d8c",
   "metadata": {},
   "outputs": [
    {
     "ename": "LoadError",
     "evalue": "PyError ($(Expr(:escape, :(ccall(#= C:\\Users\\conno\\.julia\\packages\\PyCall\\twYvK\\src\\pyfncall.jl:43 =# @pysym(:PyObject_Call), PyPtr, (PyPtr, PyPtr, PyPtr), o, pyargsptr, kw))))) <class 'ValueError'>\nValueError('x and y must have same first dimension, but have shapes (20,) and (7,)')\n  File \"C:\\Users\\conno\\.julia\\conda\\3\\lib\\site-packages\\matplotlib\\pyplot.py\", line 2740, in plot\n    return gca().plot(\n  File \"C:\\Users\\conno\\.julia\\conda\\3\\lib\\site-packages\\matplotlib\\axes\\_axes.py\", line 1662, in plot\n    lines = [*self._get_lines(*args, data=data, **kwargs)]\n  File \"C:\\Users\\conno\\.julia\\conda\\3\\lib\\site-packages\\matplotlib\\axes\\_base.py\", line 311, in __call__\n    yield from self._plot_args(\n  File \"C:\\Users\\conno\\.julia\\conda\\3\\lib\\site-packages\\matplotlib\\axes\\_base.py\", line 504, in _plot_args\n    raise ValueError(f\"x and y must have same first dimension, but \"\n",
     "output_type": "error",
     "traceback": [
      "PyError ($(Expr(:escape, :(ccall(#= C:\\Users\\conno\\.julia\\packages\\PyCall\\twYvK\\src\\pyfncall.jl:43 =# @pysym(:PyObject_Call), PyPtr, (PyPtr, PyPtr, PyPtr), o, pyargsptr, kw))))) <class 'ValueError'>\nValueError('x and y must have same first dimension, but have shapes (20,) and (7,)')\n  File \"C:\\Users\\conno\\.julia\\conda\\3\\lib\\site-packages\\matplotlib\\pyplot.py\", line 2740, in plot\n    return gca().plot(\n  File \"C:\\Users\\conno\\.julia\\conda\\3\\lib\\site-packages\\matplotlib\\axes\\_axes.py\", line 1662, in plot\n    lines = [*self._get_lines(*args, data=data, **kwargs)]\n  File \"C:\\Users\\conno\\.julia\\conda\\3\\lib\\site-packages\\matplotlib\\axes\\_base.py\", line 311, in __call__\n    yield from self._plot_args(\n  File \"C:\\Users\\conno\\.julia\\conda\\3\\lib\\site-packages\\matplotlib\\axes\\_base.py\", line 504, in _plot_args\n    raise ValueError(f\"x and y must have same first dimension, but \"\n",
      "",
      "Stacktrace:",
      "  [1] pyerr_check",
      "    @ C:\\Users\\conno\\.julia\\packages\\PyCall\\twYvK\\src\\exception.jl:75 [inlined]",
      "  [2] pyerr_check",
      "    @ C:\\Users\\conno\\.julia\\packages\\PyCall\\twYvK\\src\\exception.jl:79 [inlined]",
      "  [3] _handle_error(msg::String)",
      "    @ PyCall C:\\Users\\conno\\.julia\\packages\\PyCall\\twYvK\\src\\exception.jl:96",
      "  [4] macro expansion",
      "    @ C:\\Users\\conno\\.julia\\packages\\PyCall\\twYvK\\src\\exception.jl:110 [inlined]",
      "  [5] #107",
      "    @ C:\\Users\\conno\\.julia\\packages\\PyCall\\twYvK\\src\\pyfncall.jl:43 [inlined]",
      "  [6] disable_sigint",
      "    @ .\\c.jl:473 [inlined]",
      "  [7] __pycall!",
      "    @ C:\\Users\\conno\\.julia\\packages\\PyCall\\twYvK\\src\\pyfncall.jl:42 [inlined]",
      "  [8] _pycall!(ret::PyCall.PyObject, o::PyCall.PyObject, args::Tuple{StepRangeLen{Float64, Base.TwicePrecision{Float64}, Base.TwicePrecision{Float64}, Int64}, Vector{Float64}}, nargs::Int64, kw::Ptr{Nothing})",
      "    @ PyCall C:\\Users\\conno\\.julia\\packages\\PyCall\\twYvK\\src\\pyfncall.jl:29",
      "  [9] _pycall!(ret::PyCall.PyObject, o::PyCall.PyObject, args::Tuple{StepRangeLen{Float64, Base.TwicePrecision{Float64}, Base.TwicePrecision{Float64}, Int64}, Vector{Float64}}, kwargs::Base.Pairs{Symbol, Union{}, Tuple{}, NamedTuple{(), Tuple{}}})",
      "    @ PyCall C:\\Users\\conno\\.julia\\packages\\PyCall\\twYvK\\src\\pyfncall.jl:11",
      " [10] pycall(::PyCall.PyObject, ::Type{PyCall.PyAny}, ::StepRangeLen{Float64, Base.TwicePrecision{Float64}, Base.TwicePrecision{Float64}, Int64}, ::Vararg{Any}; kwargs::Base.Pairs{Symbol, Union{}, Tuple{}, NamedTuple{(), Tuple{}}})",
      "    @ PyCall C:\\Users\\conno\\.julia\\packages\\PyCall\\twYvK\\src\\pyfncall.jl:83",
      " [11] pycall(::PyCall.PyObject, ::Type{PyCall.PyAny}, ::StepRangeLen{Float64, Base.TwicePrecision{Float64}, Base.TwicePrecision{Float64}, Int64}, ::Vararg{Any})",
      "    @ PyCall C:\\Users\\conno\\.julia\\packages\\PyCall\\twYvK\\src\\pyfncall.jl:83",
      " [12] plot(::StepRangeLen{Float64, Base.TwicePrecision{Float64}, Base.TwicePrecision{Float64}, Int64}, ::Vararg{Any}; kws::Base.Pairs{Symbol, Union{}, Tuple{}, NamedTuple{(), Tuple{}}})",
      "    @ PyPlot C:\\Users\\conno\\.julia\\packages\\PyPlot\\NsAWt\\src\\PyPlot.jl:194",
      " [13] plot(::StepRangeLen{Float64, Base.TwicePrecision{Float64}, Base.TwicePrecision{Float64}, Int64}, ::Vararg{Any})",
      "    @ PyPlot C:\\Users\\conno\\.julia\\packages\\PyPlot\\NsAWt\\src\\PyPlot.jl:190",
      " [14] top-level scope",
      "    @ .\\In[10]:4"
     ]
    }
   ],
   "source": [
    "pairCount = mean(pairCount, dims=3)\n",
    "\n",
    "for k in eachindex(𝒽)\n",
    "    plot(T, pairCount[k, :])\n",
    "end"
   ]
  },
  {
   "cell_type": "markdown",
   "id": "6139fdc0-e755-4eed-95bb-2c35e233a7c7",
   "metadata": {},
   "source": [
    "Obviously the above will fail when there are multiple **overlapping** pairs, but at low temperatures it should give us a decent estimate.\n",
    "\n",
    "In terms of an analytic expectation, I'm really not sure. Recalling that particles are generated from the GS by creating blue spin-down strings, we should seek to minimise these strings and therefore increase the number of particles which exist in pairs."
   ]
  }
 ],
 "metadata": {
  "jupytext": {
   "formats": "ipynb,auto:light"
  },
  "kernelspec": {
   "display_name": "Julia (6 threads) 1.8.2",
   "language": "julia",
   "name": "julia-_6-threads_-1.8"
  },
  "language_info": {
   "file_extension": ".jl",
   "mimetype": "application/julia",
   "name": "julia",
   "version": "1.8.2"
  }
 },
 "nbformat": 4,
 "nbformat_minor": 5
}
