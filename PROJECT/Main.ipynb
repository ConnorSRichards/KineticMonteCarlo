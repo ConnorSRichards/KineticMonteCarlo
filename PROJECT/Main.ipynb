{
 "cells": [
  {
   "cell_type": "markdown",
   "id": "5b2cd184-b641-46dc-9860-b2da046438d1",
   "metadata": {},
   "source": [
    "## Setup"
   ]
  },
  {
   "cell_type": "code",
   "execution_count": 1,
   "id": "5116a067-9fee-49d0-8fa5-dbcf3818b427",
   "metadata": {},
   "outputs": [
    {
     "name": "stderr",
     "output_type": "stream",
     "text": [
      "\u001b[32m\u001b[1m  Activating\u001b[22m\u001b[39m project at `C:\\Users\\conno\\Documents\\CAMBRIDGE\\Part III\\Comp Project\\JULIA\\PROJECT`"
     ]
    },
    {
     "name": "stdout",
     "output_type": "stream",
     "text": [
      "Num threads: "
     ]
    },
    {
     "name": "stderr",
     "output_type": "stream",
     "text": [
      "\n"
     ]
    },
    {
     "name": "stdout",
     "output_type": "stream",
     "text": [
      "6\n",
      "\n"
     ]
    },
    {
     "data": {
      "text/plain": [
       "2023-11-14T16:54:14.181"
      ]
     },
     "execution_count": 1,
     "metadata": {},
     "output_type": "execute_result"
    }
   ],
   "source": [
    "dir = dirname(pwd()) * \"/PROJECT\"\n",
    "include(dir * \"/functions/Preamble.jl\")\n",
    "@everywhere dir = dirname(pwd()) * \"/PROJECT\"\n",
    "\n",
    "t0 = now()"
   ]
  },
  {
   "cell_type": "code",
   "execution_count": 2,
   "id": "a0a422f2-b737-4b8f-a546-344f018c025e",
   "metadata": {},
   "outputs": [],
   "source": [
    "@everywhere include(dir * \"/functions/CellComplex.jl\")\n",
    "@everywhere include(dir * \"/functions/DataStructure.jl\")\n",
    "@everywhere include(dir * \"/functions/Bases.jl\")\n",
    "@everywhere include(dir * \"/functions/Plotting.jl\")\n",
    "@everywhere include(dir * \"/functions/Statistics.jl\")\n",
    "@everywhere include(dir * \"/functions/Simulation.jl\")\n",
    "@everywhere include(dir * \"/functions/SingleVertexApproxns.jl\")\n",
    "\n",
    "@everywhere include(dir * \"/functions/simulationFunctions/GroundStates.jl\")"
   ]
  },
  {
   "cell_type": "markdown",
   "id": "cf06c27d-88d1-4335-a147-edcdc6735b6c",
   "metadata": {},
   "source": [
    "## GLOBAL INPUTS"
   ]
  },
  {
   "cell_type": "markdown",
   "id": "5f59a1b9-7980-4548-be5f-5c2d337b6bd6",
   "metadata": {},
   "source": [
    "### Energy Scales"
   ]
  },
  {
   "cell_type": "code",
   "execution_count": 3,
   "id": "193afe93-556a-493e-b35d-4527a51e1457",
   "metadata": {
    "tags": []
   },
   "outputs": [],
   "source": [
    "# Hamiltonian constants\n",
    "@everywhere global const λ::Float64 = 0\n",
    "@everywhere global const ξ::Float64 = 1\n",
    "\n",
    "# which dynamics to use (only affects microcanonical functions)\n",
    "@everywhere global const twoFlip::Bool = false\n",
    "\n",
    "# demon quantisation\n",
    "@assert (λ==1 && ξ==0) || (λ==0 && ξ==1) # otherwise demons will break b/c not quantised\n",
    "@everywhere global isSpinIce = (λ==0 && ξ==1)\n",
    "@everywhere global const δE::Int = (λ==0) ? 8*ξ : 4*λ"
   ]
  },
  {
   "cell_type": "markdown",
   "id": "972a5f30-9ed3-4a87-90bd-47b4b8192988",
   "metadata": {},
   "source": [
    "### Lattice"
   ]
  },
  {
   "cell_type": "code",
   "execution_count": 4,
   "id": "dc7adfc6-f46f-46ce-90d0-cca9f1386675",
   "metadata": {},
   "outputs": [],
   "source": [
    "# chosen basis\n",
    "@everywhere Basis = SquareBasis() # DiamondBasis() # CubicBasis(2) # \n",
    "\n",
    "# coordination number of lattice (ASSERTED CONSTANT FOR OUR PURPOSES)\n",
    "@everywhere z = Coordination(Basis)\n",
    "\n",
    "# function to generate groundstate\n",
    "@everywhere isDiamond = (z==4 && length(Basis[4])==3) # certainly not general, but avoids human error in me setting the ground state explicitly...\n",
    "@everywhere GroundState!(field, cells) = GroundState!(field, cells, isDiamond)"
   ]
  },
  {
   "cell_type": "code",
   "execution_count": 5,
   "id": "166c03ab-a267-4a8a-9546-576e330eee86",
   "metadata": {},
   "outputs": [],
   "source": [
    "# Approxn of self-diffusion coeff at zero density\n",
    "\n",
    "@everywhere q = (mod(z,2)==0) ? 2 : 3 # minimal excitation charge |Q|\n",
    "@everywhere na = (q + z) / 2 # number of allowed directions which don't increase |Q| on site\n",
    "\n",
    "@everywhere global Dself = ((!isSpinIce || na==z) ? z : na*(1-2/na^2)) / 2 / length(Basis[4])"
   ]
  },
  {
   "cell_type": "markdown",
   "id": "25c581f8-1058-4686-b140-fd8ba3031bf0",
   "metadata": {},
   "source": [
    "### Approxns"
   ]
  },
  {
   "cell_type": "code",
   "execution_count": 6,
   "id": "61d96bc1-e716-4603-a829-c3a7fa2a3f9b",
   "metadata": {},
   "outputs": [
    {
     "data": {
      "text/plain": [
       "#77 (generic function with 1 method)"
      ]
     },
     "execution_count": 6,
     "metadata": {},
     "output_type": "execute_result"
    }
   ],
   "source": [
    "if twoFlip\n",
    "    Kfun = (T, h) -> Dself ./ 2 .* (0.5 .* δE ./ T).^2 .* ExcitationDensity(T, h, z) .* (1 .- AllExcitationDensity(T, h, z)) .* (1 .- Magnetisation(T, h, z)) ./ 2 # additional magnetisation factor for +-+- bond percolation\n",
    "else\n",
    "    Kfun = (T, h) -> Dself ./ 2 .* (0.5 .* δE ./ T).^2 .* ExcitationDensity(T, h, z) .* (1 .- AllExcitationDensity(T, h, z))\n",
    "end\n",
    "\n",
    "Cfun = (T, h) -> 1/z .* (λ^2 .* sech.(λ ./T).^2 + 2 * h^2 .* sech.(h ./T).^2) ./ T.^2\n",
    "\n",
    "if twoFlip\n",
    "    Dfun = (T, h) -> Kfun(T, h) ./ Cfun(T, h)\n",
    "else\n",
    "    Dfun = (T, h) -> Kfun(T, h) ./ HeatCapacity(T, h, z)\n",
    "end"
   ]
  },
  {
   "cell_type": "markdown",
   "id": "4ca94c9b-d665-4dbb-87db-99d8f15fe008",
   "metadata": {},
   "source": [
    "### Testing Data Structure"
   ]
  },
  {
   "cell_type": "code",
   "execution_count": 7,
   "id": "c67cf0c3-ce50-4dc7-8cac-90edb07350c7",
   "metadata": {},
   "outputs": [],
   "source": [
    "TestBasis = HexBasis()\n",
    "L = [6, 6]\n",
    "PBC = [false, false]\n",
    "\n",
    "Δ, _ = LatticeGrid(L, PBC, TestBasis)\n",
    "\n",
    "S = CreateField(Δ, 1)\n",
    "GroundState!(S, Δ, false)\n",
    "\n",
    "# Lvertices, Ledges = LineGraph(vertices, edges);"
   ]
  },
  {
   "cell_type": "code",
   "execution_count": 8,
   "id": "592639f7-8b6b-4a88-967c-0f8ea7ef0fcf",
   "metadata": {},
   "outputs": [
    {
     "data": {
      "image/png": "[encoded data removed]",
      "text/plain": [
       "Figure(PyObject <Figure size 640x480 with 1 Axes>)"
      ]
     },
     "metadata": {},
     "output_type": "display_data"
    }
   ],
   "source": [
    "fig, ax = PlotGraph(S, Δ);\n",
    "#ax.view_init(5, 10)"
   ]
  },
  {
   "cell_type": "raw",
   "id": "9dde65b0-5178-4026-88b2-8c5cfd803a1c",
   "metadata": {},
   "source": [
    "@everywhere using Profile, ProfileView, Traceur # ,ProfileVega\n",
    "\n",
    "@time Boundary(S, Δ, 9)"
   ]
  },
  {
   "cell_type": "markdown",
   "id": "ebc4b6cb-aac8-4f9d-9c25-244f936fe15f",
   "metadata": {},
   "source": [
    "## Thermal Conductivity"
   ]
  },
  {
   "cell_type": "markdown",
   "id": "a33573fc-9e0a-4a36-aa94-1055644dec37",
   "metadata": {},
   "source": [
    "## Thermal Bath Method\n"
   ]
  },
  {
   "cell_type": "code",
   "execution_count": 9,
   "id": "e5c5ee78-4037-4f4a-9c7d-57a78a4e81d3",
   "metadata": {},
   "outputs": [],
   "source": [
    "@everywhere include(dir * \"/functions/simulationFunctions/DemonHeatBath.jl\")"
   ]
  },
  {
   "cell_type": "code",
   "execution_count": 10,
   "id": "06bbb354-ab8b-4df0-b47f-04aef998ebd1",
   "metadata": {},
   "outputs": [],
   "source": [
    "L = [15, 5]\n",
    "PBC = [false, true]\n",
    "\n",
    "num_histories = 1\n",
    "therm_runtime = 300\n",
    "runtime = 1500\n",
    "t_therm = 200\n",
    "t_autocorr = 1\n",
    "N_blocks = -1\n",
    "\n",
    "W = 5\n",
    "Tc = 0.1\n",
    "Th = 10.0\n",
    "\n",
    "T, κ, C, Diff, TStd, κStd, CStd, DiffStd = BathSimulation(L, PBC, Basis, W, Tc, Th, num_histories, therm_runtime, runtime, t_therm, t_autocorr, N_blocks);\n",
    "\n",
    "idx = W+1:size(T, 2)-W+1;"
   ]
  },
  {
   "cell_type": "code",
   "execution_count": 11,
   "id": "259148b9-39d0-495a-a4c3-cedec61be742",
   "metadata": {},
   "outputs": [],
   "source": [
    "# FUDGE FACTOR - WHYYY MISSING FACTOR 1/2????\n",
    "κ[1,:] ./= 2;\n",
    "κ[2,:] ./= 2;"
   ]
  },
  {
   "cell_type": "code",
   "execution_count": 12,
   "id": "12d49581-4b49-4492-a435-31175cc81a6f",
   "metadata": {},
   "outputs": [
    {
     "data": {
      "image/png": "[encoded data removed]",
      "text/plain": [
       "Figure(PyObject <Figure size 640x480 with 1 Axes>)"
      ]
     },
     "metadata": {},
     "output_type": "display_data"
    }
   ],
   "source": [
    "figure()\n",
    "plotWithError(T[1,:], 1:size(T, 2), :black, \"+\", TStd[1,:])\n",
    "plotWithError(T[2,:], 1:size(T, 2), :black, \"x\", TStd[2,:])\n",
    "savefig(\"figs/Demon_Bath_Temperatures.png\")"
   ]
  },
  {
   "cell_type": "code",
   "execution_count": 13,
   "id": "79742103-7f64-464b-9a8f-41d50a23398d",
   "metadata": {},
   "outputs": [
    {
     "data": {
      "image/png": "[encoded data removed]",
      "text/plain": [
       "Figure(PyObject <Figure size 640x480 with 1 Axes>)"
      ]
     },
     "metadata": {},
     "output_type": "display_data"
    }
   ],
   "source": [
    "figure()\n",
    "plotWithError(C[1,idx], T[1,idx], :black, \"+\")#, CStd[1,idx,i], TStd[1,idx,i])\n",
    "plotWithError(C[2,idx], T[2,idx], :black, \"x\")#, CStd[2,idx,i], TStd[2,idx,i])\n",
    "savefig(\"figs/Demon_Bath_Capacity.png\")"
   ]
  },
  {
   "cell_type": "code",
   "execution_count": 14,
   "id": "c373b194-9bd6-40f9-b1ec-57d6a7ce6de7",
   "metadata": {},
   "outputs": [
    {
     "data": {
      "image/png": "[encoded data removed]",
      "text/plain": [
       "Figure(PyObject <Figure size 640x480 with 1 Axes>)"
      ]
     },
     "metadata": {},
     "output_type": "display_data"
    }
   ],
   "source": [
    "figure()\n",
    "plot(T[1,idx], Kfun(T[1,idx], 0), color=:black)\n",
    "    \n",
    "plotWithError(κ[1,idx], T[1,idx], :black, \"+\")#, κStd[1,idx,i], TStd[1,idx,i])\n",
    "plotWithError(κ[2,idx], T[2,idx], :black, \"x\")#, κStd[2,idx,i], TStd[2,idx,i])\n",
    "\n",
    "savefig(\"figs/Demon_Bath_Conductivity.png\")"
   ]
  },
  {
   "cell_type": "code",
   "execution_count": 15,
   "id": "838324e4-369e-4f2e-a18a-12e0718c7e4c",
   "metadata": {},
   "outputs": [
    {
     "data": {
      "image/png": "[encoded data removed]",
      "text/plain": [
       "Figure(PyObject <Figure size 640x480 with 1 Axes>)"
      ]
     },
     "metadata": {},
     "output_type": "display_data"
    },
    {
     "data": {
      "text/plain": [
       "(PyObject <matplotlib.lines.Line2D object at 0x00000000D56A1C90>, (), (PyObject <matplotlib.collections.LineCollection object at 0x00000000D56A1DE0>, PyObject <matplotlib.collections.LineCollection object at 0x00000000D56A2200>))"
      ]
     },
     "execution_count": 15,
     "metadata": {},
     "output_type": "execute_result"
    }
   ],
   "source": [
    "figure()\n",
    "plot(T[1,idx], Dfun(T[1,idx], 0), color=:black)\n",
    "plot(T[2,idx], Dfun(T[2,idx], 0), color=:black, \"--\")\n",
    "plotWithError(Diff[1,idx], T[1,idx], :black, \"+\")#, DiffStd[1,idx,i], TStd[1,idx,i])\n",
    "plotWithError(Diff[2,idx], T[2,idx], :black, \"x\")#, DiffStd[2,idx,i], TStd[2,idx,i])"
   ]
  },
  {
   "cell_type": "code",
   "execution_count": 16,
   "id": "5525cb55-6f3c-4e87-8f13-6a22766f51cc",
   "metadata": {},
   "outputs": [],
   "source": [
    "savefig(\"figs/Demon_Bath_Diffusivity.png\")"
   ]
  },
  {
   "cell_type": "code",
   "execution_count": 17,
   "id": "29c98868-4fee-4239-959c-9f8211e02781",
   "metadata": {},
   "outputs": [],
   "source": [
    "save(\"data/DemonBath.jld\", \"Size\", L, \n",
    "                           \"num_histories\", num_histories, \n",
    "                           \"therm_runtime\", therm_runtime, \n",
    "                           \"runtime\", runtime, \n",
    "                           \"t_therm\", t_therm, \n",
    "                           \"basis\", Basis, \n",
    "                           \"lambda\", λ, \n",
    "                           \"xi\", ξ, \n",
    "                           \"EnergyQuantisation\", δE, \n",
    "                           \"Dself\", Dself, \n",
    "                           \"twoFlip\", twoFlip, \n",
    "                           \"idx\", idx, \n",
    "                           \"Temperature\", T, \n",
    "                           \"TemperatureStd\", TStd, \n",
    "                           \"Conductivity\", κ, \n",
    "                           \"ConductivityStd\", κStd, \n",
    "                           \"Capacity\", C, \n",
    "                           \"CapacityStd\", CStd, \n",
    "                           \"Diffusivity\", Diff, \n",
    "                           \"DiffusivityStd\", DiffStd)"
   ]
  },
  {
   "cell_type": "code",
   "execution_count": 18,
   "id": "fd73bb75-6f0d-410d-8ff2-55d3e3b406eb",
   "metadata": {},
   "outputs": [
    {
     "data": {
      "text/plain": [
       "Nothing"
      ]
     },
     "execution_count": 18,
     "metadata": {},
     "output_type": "execute_result"
    }
   ],
   "source": [
    "T       = Nothing\n",
    "κ       = Nothing\n",
    "C       = Nothing\n",
    "Diff    = Nothing\n",
    "TStd    = Nothing\n",
    "κStd    = Nothing\n",
    "CStd    = Nothing\n",
    "DiffStd = Nothing"
   ]
  },
  {
   "cell_type": "code",
   "execution_count": 19,
   "id": "957893fd-4b64-4bcb-8bab-ddac8825e803",
   "metadata": {},
   "outputs": [
    {
     "name": "stdout",
     "output_type": "stream",
     "text": [
      "\n",
      "38 seconds, 425 milliseconds"
     ]
    }
   ],
   "source": [
    "t1 = now()\n",
    "print(\"\\n\", canonicalize(t1 - t0))"
   ]
  },
  {
   "cell_type": "markdown",
   "id": "5bc7c37f-1f3a-4e5c-9b53-69a3fc3bde36",
   "metadata": {},
   "source": [
    "## Green-Kubo Method\n",
    "\n",
    "### Demon Dynamics"
   ]
  },
  {
   "cell_type": "code",
   "execution_count": 20,
   "id": "46f09363-a7b1-425e-b1b7-ea96fb87b9dd",
   "metadata": {},
   "outputs": [],
   "source": [
    "@everywhere include(dir * \"/functions/simulationFunctions/DemonKubo.jl\")"
   ]
  },
  {
   "cell_type": "code",
   "execution_count": 21,
   "id": "78720066-08fc-405b-9f03-ebf1590862b2",
   "metadata": {},
   "outputs": [],
   "source": [
    "#global testing = []\n",
    "\n",
    "# PARAMETERS\n",
    "L = [5, 5]\n",
    "PBC = [true, true]\n",
    "\n",
    "# find minimal representable temperature (just done for 𝒽=0 for now - MAYBE MODIFY TO PICK MAX OVER DIFF FIELDS??\n",
    "#Nmin = (T,h) -> (λ == 0 ? 2/(4*exp(-4/T)/3+h*exp(-2*h/T)) : 2/(exp(-2/T)+2*h*exp(-2*h/T))) # minimal lattice size on which T=Tmin is possible - see https://www.desmos.com/calculator/ll1ljvjmcg for details\n",
    "Tmin = 0.1 # find_zero((T) -> prod(L)-Nmin(T,0), 0.3)\n",
    "Tmax = 10.0\n",
    "NumT = 50\n",
    "T = collect(range(Tmin, Tmax, length=NumT)) # the +0.1 is a fudge factor to fix our approximations earlier... (exact value doesn't matter b/c just adds ~a single demon)\n",
    "\n",
    "𝒽 = [0.0]\n",
    "\n",
    "num_histories = 1\n",
    "runtime = 1000\n",
    "t_therm = 100\n",
    "t_cutoff = 100\n",
    "t_autocorr = 100\n",
    "N_blocks = -1\n",
    "\n",
    "# EVALUATION\n",
    "Tobs, κ, C, Diff, TobsStd, κStd, CStd, DiffStd = DKuboSimulation(L, PBC, Basis, num_histories, runtime, t_therm, t_autocorr, N_blocks, t_cutoff, T, 𝒽);"
   ]
  },
  {
   "cell_type": "code",
   "execution_count": 22,
   "id": "23f8a926-db3c-4287-a275-3bccee0a5ba1",
   "metadata": {},
   "outputs": [
    {
     "data": {
      "text/plain": [
       "2023-10-20T16:02:37.998"
      ]
     },
     "execution_count": 22,
     "metadata": {},
     "output_type": "execute_result"
    }
   ],
   "source": [
    "now()"
   ]
  },
  {
   "cell_type": "code",
   "execution_count": 23,
   "id": "af327c03-043e-4080-b300-50ad7886011c",
   "metadata": {},
   "outputs": [
    {
     "data": {
      "text/plain": [
       "5-element Vector{Tuple{Float64, Float64, Float64}}:\n",
       " (0.0, 0.0, 0.498)\n",
       " (0.0, 0.498, 1.0)\n",
       " (0.498, 1.0, 0.498)\n",
       " (1.0, 0.498, 0.0)\n",
       " (0.498, 0.0, 0.0)"
      ]
     },
     "execution_count": 23,
     "metadata": {},
     "output_type": "execute_result"
    }
   ],
   "source": [
    "colors = jetmap(length(𝒽))"
   ]
  },
  {
   "cell_type": "code",
   "execution_count": 24,
   "id": "1e8aba14-e135-4b22-a8cb-ab8a8c93296f",
   "metadata": {
    "tags": []
   },
   "outputs": [
    {
     "data": {
      "image/png": "[encoded data removed]",
      "text/plain": [
       "Figure(PyObject <Figure size 640x480 with 1 Axes>)"
      ]
     },
     "metadata": {},
     "output_type": "display_data"
    }
   ],
   "source": [
    "figure()\n",
    "for i in eachindex(𝒽)\n",
    "    plotWithError(Tobs[:,i], T, colors[i], \".\", \"\" , TobsStd[:,i])\n",
    "end\n",
    "savefig(\"figs/Demon_Kubo_Temperature.png\")\n",
    "# Just to check that out temperature estimates aren't too far off"
   ]
  },
  {
   "cell_type": "code",
   "execution_count": 25,
   "id": "19ed4af4-3b80-4f5c-bfc1-2d79810e0b40",
   "metadata": {},
   "outputs": [
    {
     "data": {
      "image/png": "[encoded data removed]",
      "text/plain": [
       "Figure(PyObject <Figure size 640x480 with 1 Axes>)"
      ]
     },
     "metadata": {},
     "output_type": "display_data"
    }
   ],
   "source": [
    "figure()\n",
    "for i in eachindex(𝒽)\n",
    "    plot(T[2:end], Kfun(T[2:end], 𝒽[i]), color=colors[i])\n",
    "    plotWithError(κ[:,i], Tobs[:,i], colors[i], \".\", \"\" , κStd[:,i], TobsStd[:,i])\n",
    "end\n",
    "savefig(\"figs/Demon_Kubo_Conductivity.png\")"
   ]
  },
  {
   "cell_type": "code",
   "execution_count": 26,
   "id": "d60df288-aefd-44c0-8380-241ef530db2d",
   "metadata": {},
   "outputs": [
    {
     "data": {
      "image/png": "[encoded data removed]",
      "text/plain": [
       "Figure(PyObject <Figure size 640x480 with 1 Axes>)"
      ]
     },
     "metadata": {},
     "output_type": "display_data"
    }
   ],
   "source": [
    "figure()\n",
    "for i in eachindex(𝒽)\n",
    "    plot(T[2:end], Cfun(T[2:end], 𝒽[i]), color=colors[i])\n",
    "    \n",
    "    plotWithError(C[:,i], Tobs[:,i], colors[i], \".\", \"\" , CStd[:,i], TobsStd[:,i])\n",
    "end\n",
    "savefig(\"figs/Demon_Kubo_Capacity.png\")"
   ]
  },
  {
   "cell_type": "code",
   "execution_count": 27,
   "id": "ec3f2e0f-2037-452e-826e-b57a8a9af5bc",
   "metadata": {},
   "outputs": [
    {
     "data": {
      "image/png": "[encoded data removed]",
      "text/plain": [
       "Figure(PyObject <Figure size 640x480 with 1 Axes>)"
      ]
     },
     "metadata": {},
     "output_type": "display_data"
    }
   ],
   "source": [
    "figure()\n",
    "for i in eachindex(𝒽)\n",
    "    plot(T[2:end], Dfun(T[2:end], 𝒽[i]), color=colors[i])\n",
    "    \n",
    "    plotWithError(Diff[:,i], Tobs[:,i], colors[i], \".\", \"\" , DiffStd[:,i], TobsStd[:,i])\n",
    "end\n",
    "savefig(\"figs/Demon_Kubo_Diff.png\")"
   ]
  },
  {
   "cell_type": "code",
   "execution_count": 28,
   "id": "f19ed7f8-442e-429b-97a7-29c912b882e5",
   "metadata": {},
   "outputs": [],
   "source": [
    "save(\"data/DemonKubo.jld\", \"Size\", L, \n",
    "                           \"Fields\", 𝒽, \n",
    "                           \"num_histories\", num_histories, \n",
    "                           \"therm_runtime\", therm_runtime, \n",
    "                           \"runtime\", runtime, \n",
    "                           \"t_therm\", t_therm, \n",
    "                           \"t_cutoff\", t_cutoff, \n",
    "                           \"basis\", Basis,\n",
    "                           \"lambda\", λ, \n",
    "                           \"xi\", ξ, \n",
    "                           \"EnergyQuantisation\", δE,\n",
    "                           \"Dself\", Dself, \n",
    "                           \"twoFlip\", twoFlip, \n",
    "                           \"TargetTemperature\", T, \n",
    "                           \"ObservedTemperature\", Tobs, \n",
    "                           \"ObservedTemperatureStd\", TobsStd, \n",
    "                           \"Conductivity\", κ, \n",
    "                           \"ConductivityStd\", κStd, \n",
    "                           \"Capacity\", C, \n",
    "                           \"CapacityStd\", CStd, \n",
    "                           \"Diffusivity\", Diff, \n",
    "                           \"DiffusivityStd\", DiffStd)"
   ]
  },
  {
   "cell_type": "code",
   "execution_count": 29,
   "id": "4bb297bb-db7d-4da4-bfe2-409a0dadb0a0",
   "metadata": {},
   "outputs": [
    {
     "data": {
      "text/plain": [
       "Nothing"
      ]
     },
     "execution_count": 29,
     "metadata": {},
     "output_type": "execute_result"
    }
   ],
   "source": [
    "Tobs    = Nothing\n",
    "κ       = Nothing\n",
    "C       = Nothing\n",
    "Diff    = Nothing\n",
    "TobsStd = Nothing\n",
    "κStd    = Nothing\n",
    "CStd    = Nothing\n",
    "DiffStd = Nothing"
   ]
  },
  {
   "cell_type": "code",
   "execution_count": 30,
   "id": "d1325161-6492-4689-afbe-f99e7dc934dc",
   "metadata": {},
   "outputs": [
    {
     "name": "stdout",
     "output_type": "stream",
     "text": [
      "57 seconds, 967 milliseconds"
     ]
    }
   ],
   "source": [
    "t2 = now()\n",
    "print(canonicalize(t2 - t1))"
   ]
  },
  {
   "cell_type": "markdown",
   "id": "0366f56d-8fe1-45d7-b115-c24c67e47da1",
   "metadata": {},
   "source": [
    "### Microcanonical Dynamics"
   ]
  },
  {
   "cell_type": "code",
   "execution_count": 23,
   "id": "44e8d3ab-1d87-494d-a7a9-4f576ddde48c",
   "metadata": {},
   "outputs": [],
   "source": [
    "@everywhere include(dir * \"/functions/simulationFunctions/MicroKubo.jl\")"
   ]
  },
  {
   "cell_type": "raw",
   "id": "9172494c-a670-4a16-944b-b95f401a4fa7",
   "metadata": {},
   "source": [
    "@everywhere using Profile, ProfileView, Traceur # ,ProfileVega\n",
    "\n",
    "@profview MKuboSimulation([5, 5], [true, true], Basis, 2, 1000, 1000, 100, 100, -1, 100, collect(range(0.01, 10.0, length=50)), [0.0], false)"
   ]
  },
  {
   "cell_type": "raw",
   "id": "97bd78ef-bf5e-4a65-be20-ee57faa17a98",
   "metadata": {},
   "source": [
    "@time MKuboSimulation([5, 5], [true, true], Basis, 2, 1000, 1000, 100, 100, -1, 100, collect(range(0.01, 10.0, length=50)), [0.0], false)"
   ]
  },
  {
   "cell_type": "raw",
   "id": "6286259a-c638-4c10-97c3-761c7f4b3d9d",
   "metadata": {},
   "source": [
    "@trace MKuboSimulation(L, PBC, Basis, num_histories, runtime, therm_runtime, t_therm, t_autocorr, N_blocks, t_cutoff, T, 𝒽, allComponents)"
   ]
  },
  {
   "cell_type": "code",
   "execution_count": null,
   "id": "5a2ae484-a98b-47ae-b3b6-a4f66066d1ea",
   "metadata": {},
   "outputs": [],
   "source": [
    "# PARAMETERS\n",
    "L = [24, 24]\n",
    "PBC = [true, true]\n",
    "\n",
    "Tmin = 0.01\n",
    "Tmax = 10.0\n",
    "NumT = 50\n",
    "\n",
    "#Tmax *= (λ == 0 ? 1.0 : 0.5)\n",
    "T = collect(range(Tmin, Tmax, length=NumT))\n",
    "\n",
    "𝒽 = [0.0] # range(0, 2, length=5) # \n",
    "\n",
    "num_histories = 5\n",
    "therm_runtime = 1000\n",
    "runtime = 1000\n",
    "t_therm = 100\n",
    "t_autocorr = 100\n",
    "N_blocks = -1\n",
    "t_cutoff = 100\n",
    "\n",
    "allComponents = false\n",
    "\n",
    "\n",
    "# EVALUATION\n",
    "κ, C, Diff, κStd, CStd, DiffStd = MKuboSimulation(L, PBC, Basis, num_histories, runtime, therm_runtime, t_therm, t_autocorr, N_blocks, t_cutoff, T, 𝒽, allComponents);"
   ]
  },
  {
   "cell_type": "code",
   "execution_count": null,
   "id": "923a7ae2-6802-4a1a-840c-1c15e3455d60",
   "metadata": {},
   "outputs": [],
   "source": [
    "now()"
   ]
  },
  {
   "cell_type": "code",
   "execution_count": null,
   "id": "810c62c4-8c0c-44bd-8dfb-2ed2c6d0f1ff",
   "metadata": {},
   "outputs": [],
   "source": [
    "colors = jetmap(length(𝒽));"
   ]
  },
  {
   "cell_type": "code",
   "execution_count": null,
   "id": "9ec06e7b-451c-4bcb-b613-0251c4eb0cb9",
   "metadata": {},
   "outputs": [],
   "source": [
    "dim = allComponents ? length(L) : 1\n",
    "for i in 1:dim\n",
    "    for j in 1:dim\n",
    "        δij = (i==j) ? 1 : 0\n",
    "        \n",
    "        figure()\n",
    "        for n in eachindex(𝒽)\n",
    "            plot(T[2:end], δij .* Kfun(T[2:end], 𝒽[n]), color=colors[n])\n",
    "\n",
    "            plotWithError(κ[i,j,:,n], T, colors[n], \".\", \"\" , κStd[i,j,:,n])\n",
    "        end\n",
    "        \n",
    "        savefig(\"figs/Micro_Kubo_Conductivity_\" * string(i) * string(j) * \".png\")\n",
    "    end\n",
    "end"
   ]
  },
  {
   "cell_type": "code",
   "execution_count": null,
   "id": "c86c97f1-83d9-4390-a1a9-3d37e7a3cfcf",
   "metadata": {},
   "outputs": [],
   "source": [
    "figure()\n",
    "for n in eachindex(𝒽)\n",
    "    #plot(T[2:end], Cfun(T[2:end], 𝒽[n]), color=colors[n])\n",
    "    plot(T, HeatCapacity(T, 𝒽[n], z), \"--\", color=colors[n])\n",
    "    \n",
    "    plotWithError(C[:,n], T, colors[n], \".\", \"\" , CStd[:,n])\n",
    "end\n",
    "savefig(\"figs/Micro_Kubo_Capacity.png\")"
   ]
  },
  {
   "cell_type": "code",
   "execution_count": null,
   "id": "f44d6c23",
   "metadata": {},
   "outputs": [],
   "source": [
    "figure()\n",
    "for i in 1:dim\n",
    "    for j in 1:dim\n",
    "        δij = (i==j) ? 1 : 0\n",
    "        \n",
    "        figure()\n",
    "        for n in eachindex(𝒽)\n",
    "            plot(T[2:end], δij .* Dfun(T[2:end], 𝒽[n]), color=colors[n])\n",
    "            \n",
    "            plotWithError(Diff[i,j,:,n], T, colors[n], \".\", \"\" , DiffStd[i,j,:,n])\n",
    "        end\n",
    "        \n",
    "        savefig(\"figs/Micro_Kubo_Diff_\" * string(i) * string(j) * \".png\")\n",
    "    end\n",
    "end"
   ]
  },
  {
   "cell_type": "code",
   "execution_count": 14,
   "id": "39ca0504-f53c-4d00-b638-c1613c1c8ad0",
   "metadata": {},
   "outputs": [],
   "source": [
    "save(\"data/MicroKubo.jld\", \"Size\", L,\n",
    "                           \"Fields\", 𝒽,\n",
    "                           \"num_histories\", num_histories,\n",
    "                           \"therm_runtime\", therm_runtime,\n",
    "                           \"runtime\", runtime,\n",
    "                           \"t_therm\", t_therm,\n",
    "                           \"t_cutoff\", t_cutoff,\n",
    "                           \"basis\", Basis,\n",
    "                           \"lambda\", λ,\n",
    "                           \"xi\", ξ,\n",
    "                           \"EnergyQuantisation\", δE,\n",
    "                           \"Dself\", Dself,\n",
    "                           \"twoFlip\", twoFlip,\n",
    "                           \"allComponents\", allComponents,\n",
    "                           \"Temperature\", T,\n",
    "                           \"Conductivity\", κ,\n",
    "                           \"ConductivityStd\", κStd,\n",
    "                           \"Capacity\", C,\n",
    "                           \"CapacityStd\", CStd,\n",
    "                           \"Diffusivity\", Diff,\n",
    "                           \"DiffusivityStd\", DiffStd)"
   ]
  },
  {
   "cell_type": "code",
   "execution_count": null,
   "id": "c36ded31-d929-4685-8d6c-a1171d20af6b",
   "metadata": {},
   "outputs": [],
   "source": [
    "κ       = Nothing\n",
    "C       = Nothing\n",
    "Diff    = Nothing\n",
    "κStd    = Nothing\n",
    "CStd    = Nothing\n",
    "DiffStd = Nothing"
   ]
  },
  {
   "cell_type": "code",
   "execution_count": 7,
   "id": "88d92e36-e40f-4c4c-9b12-ecb6d637082c",
   "metadata": {},
   "outputs": [
    {
     "ename": "LoadError",
     "evalue": "UndefVarError: t2 not defined",
     "output_type": "error",
     "traceback": [
      "UndefVarError: t2 not defined",
      "",
      "Stacktrace:",
      " [1] top-level scope",
      "   @ In[7]:2"
     ]
    }
   ],
   "source": [
    "t3 = now()\n",
    "print(\"\\n\", canonicalize(t3 - t2))"
   ]
  },
  {
   "cell_type": "markdown",
   "id": "1d4050ea-2a4a-4ffb-a5f4-b7c1125bfbe3",
   "metadata": {},
   "source": [
    "### Diffusive Motion"
   ]
  },
  {
   "cell_type": "code",
   "execution_count": 7,
   "id": "31879698-fff0-4a21-b212-58340d62cfaa",
   "metadata": {},
   "outputs": [],
   "source": [
    "@everywhere include(dir * \"/functions/simulationFunctions/MicroKubo.jl\")\n",
    "@everywhere include(dir * \"/functions/simulationFunctions/MicroDiffusion.jl\")"
   ]
  },
  {
   "cell_type": "code",
   "execution_count": null,
   "id": "4ccecc5d-e068-4996-9aa8-dbc1f4e62e6e",
   "metadata": {},
   "outputs": [],
   "source": [
    "L = [25, 25]\n",
    "PBC = [true, true]\n",
    "\n",
    "therm_runtime = 500 # floor(Int64,(maximum(L)./2)^2/2/length(L)/Dself) # 1000\n",
    "runtime = 500\n",
    "tau = 2:200\n",
    "num_histories = 10\n",
    "𝒽 = [0.0]; #collect(range(0, 2, length=5))\n",
    "\n",
    "T = []; # collect(range(0.01, 1.0, length=20));\n",
    "ℓ = collect(range(1, 15, step=1)); # [1];\n",
    "\n",
    "Basis = SquareBasis()\n",
    "\n",
    "x, δ, Mag, Perc, P, Nv = DiffSim(L, PBC, Basis, therm_runtime, runtime, ℓ, T, 𝒽);"
   ]
  },
  {
   "cell_type": "code",
   "execution_count": null,
   "id": "7d951ef2-beb5-466e-9fa5-846fbfaf2271",
   "metadata": {},
   "outputs": [],
   "source": [
    "figure()\n",
    "for h in 1:length(x[1][1])\n",
    "    for p in 1:size(x[1][1][h], 2)\n",
    "        plot(x[1][1][h][1,p,:], x[1][1][h][2,p,:])\n",
    "    end\n",
    "end\n",
    "savefig(\"figs/trajectories.pdf\")"
   ]
  },
  {
   "cell_type": "code",
   "execution_count": null,
   "id": "c0630a7d-7bae-43f5-aa80-e2dc4d513b6b",
   "metadata": {},
   "outputs": [],
   "source": [
    "D, α, C, γ, MSD, VACF = DiffAnalysis(x, δ, P, runtime, ℓ, T, 𝒽);\n",
    "\n",
    "colors = jetmap(length(𝒽));\n",
    "colorsℓ = jetmap(length(ℓ));"
   ]
  },
  {
   "cell_type": "code",
   "execution_count": null,
   "id": "a96ee7ca-a2c0-4135-ab76-d6ab858fb537",
   "metadata": {},
   "outputs": [],
   "source": [
    "Mag = mean(Mag, dims=3)\n",
    "\n",
    "figure()\n",
    "for i in eachindex(𝒽)\n",
    "    if length(T) > 0\n",
    "        scatter(T, Mag[:,i], color=colors[i])\n",
    "        plot(T, Magnetisation(T, 𝒽[i], z), color=colors[i])\n",
    "    elseif length(ℓ) > 0\n",
    "        scatter(ℓ, Mag[:,i], color=colors[i])\n",
    "    end\n",
    "end\n",
    "savefig(\"figs/Magnetisation.png\")"
   ]
  },
  {
   "cell_type": "code",
   "execution_count": null,
   "id": "98b3bd1c-b9ce-4a35-ac28-cd4bad65703e",
   "metadata": {},
   "outputs": [],
   "source": [
    "Perc = mean(Perc, dims=3)\n",
    "\n",
    "figure()\n",
    "for i in eachindex(𝒽)\n",
    "    if length(T) > 0\n",
    "        scatter(T, Perc[:,i], color=colors[i])\n",
    "    elseif length(ℓ) > 0\n",
    "        scatter(ℓ, Perc[:,i], color=colors[i])\n",
    "    end\n",
    "end\n",
    "\n",
    "savefig(\"figs/Percolation.png\")"
   ]
  },
  {
   "cell_type": "code",
   "execution_count": null,
   "id": "f2720c1d-dab4-4e4f-994b-24b54d2c970c",
   "metadata": {},
   "outputs": [],
   "source": [
    "figure()\n",
    "for t in 1:size(MSD, 2)\n",
    "    for i in 1:size(MSD, 3)\n",
    "        if MSD[tau,t,i] != [NaN for _ in 1:size(MSD, 1)]\n",
    "            #loglog(MSD[:,t,i], color=colors[i])\n",
    "            plot(MSD[tau,t,i], color=colorsℓ[t])\n",
    "        end\n",
    "    end\n",
    "end\n",
    "plot(2 .* length(L) .* D[1] .* tau .^ α[1], color=:black, \"--\")\n",
    "savefig(\"figs/MSD.png\")"
   ]
  },
  {
   "cell_type": "code",
   "execution_count": null,
   "id": "62f17f2a-e5aa-49aa-9785-9a06913a7451",
   "metadata": {},
   "outputs": [],
   "source": [
    "# step direction autocorrelation\n",
    "figure()\n",
    "for t in 1:size(VACF, 2)\n",
    "    for i in 1:size(VACF, 3)\n",
    "        if VACF[tau,t,i] != [NaN for _ in 1:size(VACF, 1)]\n",
    "            #loglog(abs.(VACF[:,t,i]), color=colors[i])\n",
    "            plot(VACF[tau,t,i], color=colorsℓ[t])\n",
    "        end\n",
    "    end\n",
    "end\n",
    "sgn = sign(VACF[findmax(abs.(VACF[:,1,1]))[2],1,1])\n",
    "plot(-sgn .* length(L) .* abs(C[1]) .* tau .^ γ[1], color=:black, \"--\")\n",
    "savefig(\"figs/VACF.png\")"
   ]
  },
  {
   "cell_type": "code",
   "execution_count": null,
   "id": "9df550e5-be67-4af1-adb6-bd5bb55af6c7",
   "metadata": {},
   "outputs": [],
   "source": [
    "# estimate based on assuming the number of particles is <ϵ_i>/2λ/2 in single vertex approxn\n",
    "figure() # density of quasiparticles\n",
    "p = mean(P, dims=3) ./ Nv\n",
    "if length(T) > 0\n",
    "    for i in eachindex(𝒽)\n",
    "        scatter(T, p[:,i], color=colors[i])\n",
    "        plot(T, ExcitationDensity(T, 𝒽[i], z), color=colors[i])\n",
    "    end\n",
    "elseif length(ℓ) > 0\n",
    "    pExp = 2 .* ℓ ./ Nv\n",
    "    for i in eachindex(𝒽)\n",
    "        scatter(ℓ, p[:,i], color=colorsℓ)\n",
    "    end\n",
    "    plot(ℓ, pExp, color=:black, \"--\")\n",
    "end\n",
    "savefig(\"figs/Quasiparticle Number.png\")"
   ]
  },
  {
   "cell_type": "code",
   "execution_count": null,
   "id": "d95e0c40-a4b1-4e05-aabc-3c89e1ad2a7c",
   "metadata": {},
   "outputs": [],
   "source": [
    "figure() # msd diffusion coefficient\n",
    "if length(T) > 0\n",
    "    for i in eachindex(𝒽)\n",
    "        plot(T[2:end], 2 .* length(L) .* Dfun(T[2:end], 𝒽[i]), color=colors[i])\n",
    "        \n",
    "        plotWithError(D[1,:,i], T, colors[i], \".\", \"\" , D[2,:,i])\n",
    "    end\n",
    "elseif length(ℓ) > 0\n",
    "    plot(2 .* ℓ, Dself .* (1 .- 2 .* ℓ ./ Nv), color=:black)\n",
    "    for i in eachindex(𝒽)\n",
    "        plotWithError(D[1,:,i], 2 .* ℓ, colors[i], \".\", \"\" , D[2,:,i])\n",
    "    end\n",
    "end\n",
    "savefig(\"figs/MSD_Coefficient.png\")"
   ]
  },
  {
   "cell_type": "code",
   "execution_count": null,
   "id": "9e1865fa-5717-48b1-ae09-1e1a7a88b6f4",
   "metadata": {},
   "outputs": [],
   "source": [
    "figure() # msd diffusion exponent\n",
    "if length(T) > 1\n",
    "    for i in eachindex(𝒽)\n",
    "        plotWithError(α[1,:,i], T, colors[i], \".\", \"\" , α[2,:,i])\n",
    "    end\n",
    "elseif length(ℓ) > 0\n",
    "    for i in eachindex(𝒽)\n",
    "        plotWithError(α[1,:,i], 2*ℓ, colors[i], \".\", \"\" , α[2,:,i])\n",
    "    end\n",
    "end\n",
    "savefig(\"figs/MSD_Exponent.png\")"
   ]
  },
  {
   "cell_type": "code",
   "execution_count": null,
   "id": "4544f2ab-a5d3-489a-830d-a88469b86ce7",
   "metadata": {},
   "outputs": [],
   "source": [
    "# MSD EXPONENT NUMBER TWO!\n",
    "numExcitations = (temp) -> temp==0 ? 0 : Nv * (ExcitationDensity([temp], 0.0, z))[1]\n",
    "T = zeros(length(ℓ))\n",
    "\n",
    "for n in eachindex(ℓ)\n",
    "    fn = (t) -> numExcitations(t) - 2*ℓ[n]\n",
    "    T[n] = find_zero(fn, (0, 10))\n",
    "end\n",
    "\n",
    "print(T)\n",
    "\n",
    "figure()\n",
    "\n",
    "plotWithError(α[1,:,1], T, :black, \".\", \"\" , α[2,:,1]);"
   ]
  },
  {
   "cell_type": "code",
   "execution_count": null,
   "id": "c4ecdc43-66cc-42c1-a31f-6e2b47c074c8",
   "metadata": {},
   "outputs": [],
   "source": [
    "figure() # vacf diffusion coefficient\n",
    "if length(T) > 0\n",
    "    for i in eachindex(𝒽)\n",
    "        plot(T[2:end], length(L) .* Dfun(T[2:end], 𝒽[i]), color=colors[i])\n",
    "        \n",
    "        plotWithError(C[1,:,i], T, colors[i], \".\", \"\" , D[2,:,i])\n",
    "    end\n",
    "elseif length(ℓ) > 0\n",
    "    plot(2 .* ℓ, Dself .* (1 .- 2 .* ℓ ./ Nv), color=:black)\n",
    "    for i in eachindex(𝒽)\n",
    "        plotWithError(C[1,:,i], 2 .* ℓ, colors[i], \".\", \"\" , D[2,:,i])\n",
    "    end\n",
    "end\n",
    "savefig(\"figs/VACF_Coefficient.png\")"
   ]
  },
  {
   "cell_type": "code",
   "execution_count": null,
   "id": "cf7e486f-8f9a-4a3e-9389-013faa8c6240",
   "metadata": {},
   "outputs": [],
   "source": [
    "figure() # vacf diffusion exponent\n",
    "if length(T) > 1\n",
    "    for i in eachindex(𝒽)\n",
    "        plotWithError(γ[1,:,i], T, colors[i], \".\", \"\" , α[2,:,i])\n",
    "    end\n",
    "elseif length(ℓ) > 0\n",
    "    for i in eachindex(𝒽)\n",
    "        plotWithError(γ[1,:,i], ℓ, colors[i], \".\", \"\" , α[2,:,i])\n",
    "    end\n",
    "end\n",
    "savefig(\"figs/VACF_Exponent.png\")"
   ]
  },
  {
   "cell_type": "code",
   "execution_count": null,
   "id": "11042670-34fe-4d7e-ab14-e45420c02058",
   "metadata": {},
   "outputs": [],
   "source": [
    "print(\"D = \", D[1,1,1], \" ± \", D[2,1,1], \"\\n\\n\")\n",
    "print(\"α = \", α[1,1,1], \" ± \", α[2,1,1], \"\\n\\n\")\n",
    "print(\"C = \", C[1,1,1], \" ± \", C[2,1,1], \"\\n\\n\")\n",
    "print(\"γ = \", γ[1,1,1], \" ± \", γ[2,1,1], \"\\n\\n\")"
   ]
  },
  {
   "cell_type": "code",
   "execution_count": null,
   "id": "dc747f9d-a188-4309-8c14-904dff5db09b",
   "metadata": {},
   "outputs": [],
   "source": [
    "print(α[1,1,1]+1, \" ± \", α[2,1,1], \"\\n\\n\")\n",
    "print(2*γ[1,1,1]+4, \" ± \", 2*γ[2,1,1], \"\\n\\n\")"
   ]
  },
  {
   "cell_type": "markdown",
   "id": "5a02b532-dc3c-4b5b-8c6b-a11768f2b528",
   "metadata": {},
   "source": [
    "save(\"data/MicroDiff.jld\", \"Size\", L,\n",
    "                           \"Fields\", 𝒽,\n",
    "                           \"num_histories\", num_histories,\n",
    "                           \"therm_runtime\", therm_runtime,\n",
    "                           \"runtime\", runtime,\n",
    "                           \"tau\", tau,\n",
    "                           \"basis\", Basis,\n",
    "                           \"lambda\", λ,\n",
    "                           \"xi\", ξ,\n",
    "                           \"EnergyQuantisation\", δE,\n",
    "                           \"Dself\", Dself,\n",
    "                           \"twoFlip\", twoFlip,\n",
    "                           \"Temperature\", T,\n",
    "                           \"NumFlippedEdges\", ℓ,\n",
    "                           \"MSD\", MSD,\n",
    "                           \"VACF\", VACF,\n",
    "                           \"D\", D,\n",
    "                           \"alpha\", α,\n",
    "                           \"C\", C,\n",
    "                           \"gamma\", γ)"
   ]
  },
  {
   "cell_type": "code",
   "execution_count": null,
   "id": "e57d751d-ab14-4eb2-a351-a7e40c042c97",
   "metadata": {},
   "outputs": [],
   "source": [
    "t4 = now()\n",
    "print(\"\\n\", canonicalize(t4 - t3))"
   ]
  },
  {
   "cell_type": "markdown",
   "id": "9c22f361-9b06-4b53-aa9a-b8bd5a1b054b",
   "metadata": {},
   "source": [
    "### Diffusion Subgraphs"
   ]
  },
  {
   "cell_type": "code",
   "execution_count": null,
   "id": "2ea2b2c6-7d93-4d52-aa42-ead288007509",
   "metadata": {},
   "outputs": [],
   "source": [
    "@everywhere include(dir * \"/functions/simulationFunctions/MicroDiffusion.jl\")\n",
    "@everywhere include(dir * \"/functions/simulationFunctions/MicroKubo.jl\")"
   ]
  },
  {
   "cell_type": "code",
   "execution_count": null,
   "id": "559e9f30-8b5e-4466-b753-a84ddfa5f2a4",
   "metadata": {},
   "outputs": [],
   "source": [
    "Basis = SquareBasis()\n",
    "L = [64, 64]\n",
    "PBC = [true, true]\n",
    "\n",
    "therm_runtime = 4000\n",
    "T_therm = 1\n",
    "𝒽 = 0.0\n",
    "randomInit = false\n",
    "numToFlip = 1\n",
    "\n",
    "Δ, scale = LatticeGrid(L, PBC, Basis)\n",
    "\n",
    "S = MicroDiffnSetup(Δ, 1);l\n",
    "MicroDiffn(S, Δ, therm_runtime, 𝒽, false);\n",
    "\n",
    "#S, _ = MicroKuboSetup(Δ, therm_runtime, T_therm, 𝒽, randomInit);"
   ]
  },
  {
   "cell_type": "code",
   "execution_count": 71,
   "id": "c2745111-7ed8-49a8-9ea5-149784820f69",
   "metadata": {},
   "outputs": [
    {
     "name": "stdout",
     "output_type": "stream",
     "text": [
      "(2,)"
     ]
    }
   ],
   "source": [
    "# find all the excitations\n",
    "js = []\n",
    "Qjs = []\n",
    "for i in eachindex(Δ.cells[1])\n",
    "    Ai = Star(S, Δ, i)\n",
    "    Qi = -Boundary(S, Δ, i)\n",
    "\n",
    "    if (isSpinIce ? (abs(Qi) == 3 || abs(Qi) == 2) : Ai == -1)\n",
    "        push!(js, i)\n",
    "        push!(Qjs, Qi)\n",
    "    end\n",
    "end\n",
    "print(size(js))"
   ]
  },
  {
   "cell_type": "markdown",
   "id": "d4ce3f81-ac0d-4a60-b922-e405b3ff2a4a",
   "metadata": {},
   "source": [
    "#### Charge Subgraphs"
   ]
  },
  {
   "cell_type": "raw",
   "id": "c6d59da8-ceac-4da5-b5a1-8ebec134d2af",
   "metadata": {},
   "source": [
    "PlotGraph(S, Δ)\n",
    "\n",
    "for (i, Δi) in enumerate(Δ.cells[1])\n",
    "    Qi = -Boundary(S, Δ, i)\n",
    "    \n",
    "    c = (Qi == 0) ? :black : (Qi > 0 ? :red : :blue)\n",
    "    scatter(Δi.x[1], Δi.x[2], color=c, zorder=3)\n",
    "    \n",
    "    if abs(Qi) > 1\n",
    "        scatter(Δi.x[1], Δi.x[2], color=:yellow, zorder=3, marker=\"*\")\n",
    "    end\n",
    "end"
   ]
  },
  {
   "cell_type": "markdown",
   "id": "2eb21bac-d596-4821-b6f7-19903e7b5df5",
   "metadata": {},
   "source": [
    "#### Arrow Subgraphs"
   ]
  },
  {
   "cell_type": "code",
   "execution_count": 72,
   "id": "1d35ee05-69d2-46ae-b0a5-5d34a0745169",
   "metadata": {},
   "outputs": [
    {
     "data": {
      "text/plain": [
       "BFS (generic function with 1 method)"
      ]
     },
     "execution_count": 72,
     "metadata": {},
     "output_type": "execute_result"
    }
   ],
   "source": [
    "using DataStructures\n",
    "\n",
    "function BFS(S, Δ, u) # u = starting vertex\n",
    "    \n",
    "    # define whether to follow spins or go against them\n",
    "    Qu = -Boundary(S, Δ, u) # charge of starting vertex\n",
    "    isReachable = (Svw) -> (Svw == sign(Qu))\n",
    "    \n",
    "    seenV = zeros(Bool, length(Δ.cells[1]))\n",
    "    seenE = zeros(Bool, length(Δ.cells[2]))\n",
    "    toExplore = Queue{Int}()\n",
    "    \n",
    "    enqueue!(toExplore, u)\n",
    "    seenV[u] = true\n",
    "    \n",
    "    while length(toExplore)> 0\n",
    "        v = dequeue!(toExplore)\n",
    "        \n",
    "        for (e, k) in zip(Δ.cells[1][v].∂ᵀ, Δ.cells[1][v].ηᵀ) # loop over connected edges\n",
    "            \n",
    "            w = Δ.cells[2][e].∂[findfirst(Δ.cells[2][e].∂ .!= v)] # connected vertex\n",
    "            \n",
    "            Svw = -GetCpt(S, k*e, true) # spin from v to w\n",
    "            \n",
    "            if isReachable(Svw)\n",
    "                seenE[e] = true\n",
    "                \n",
    "                if !seenV[w]\n",
    "                    enqueue!(toExplore, w)\n",
    "                    seenV[w] = true\n",
    "                end\n",
    "            end\n",
    "        end \n",
    "    end\n",
    "\n",
    "    return [seenV, seenE, []]\n",
    "end"
   ]
  },
  {
   "cell_type": "code",
   "execution_count": 73,
   "id": "c5db7e14-7cf1-4d54-bf1e-c65076480cc3",
   "metadata": {},
   "outputs": [
    {
     "data": {
      "text/plain": [
       "DFS (generic function with 1 method)"
      ]
     },
     "execution_count": 73,
     "metadata": {},
     "output_type": "execute_result"
    }
   ],
   "source": [
    "function DFS(S, Δ, u) # u = starting vertex\n",
    "    \n",
    "    # define whether to follow spins or go against them\n",
    "    Qu = -Boundary(S, Δ, u) # charge of starting vertex\n",
    "    isReachable = (Svw) -> (Svw == sign(Qu))\n",
    "    \n",
    "    seenV = zeros(Bool, length(Δ.cells[1]))\n",
    "    seenE = zeros(Bool, length(Δ.cells[2]))\n",
    "    toExplore = Stack{Int}()\n",
    "    \n",
    "    push!(toExplore, u)\n",
    "    seenV[u] = true\n",
    "    \n",
    "    while length(toExplore)> 0\n",
    "        v = pop!(toExplore)\n",
    "        \n",
    "        for (e, k) in zip(Δ.cells[1][v].∂ᵀ, Δ.cells[1][v].ηᵀ) # loop over connected edges\n",
    "            \n",
    "            w = Δ.cells[2][e].∂[findfirst(Δ.cells[2][e].∂ .!= v)] # connected vertex\n",
    "            \n",
    "            Svw = -GetCpt(S, k*e, true) # spin from v to w\n",
    "            \n",
    "            if isReachable(Svw)\n",
    "                seenE[e] = true\n",
    "                \n",
    "                if !seenV[w]\n",
    "                    push!(toExplore, w)\n",
    "                    seenV[w] = true\n",
    "                end\n",
    "            end\n",
    "        end \n",
    "    end\n",
    "\n",
    "    return [seenV, seenE, []]\n",
    "end"
   ]
  },
  {
   "cell_type": "raw",
   "id": "bd377563-2472-4bc4-ad7a-cf97121c2d0c",
   "metadata": {},
   "source": [
    "toPlot = BFS(S, Δ, js[1]);\n",
    "PlotGraph(S, Δ, toPlot)"
   ]
  },
  {
   "cell_type": "markdown",
   "id": "01018698-2f52-42e0-9537-cd2e5cf85540",
   "metadata": {},
   "source": [
    "#### Shortest Path Scaling"
   ]
  },
  {
   "cell_type": "code",
   "execution_count": 74,
   "id": "8bc48596-a07d-49ad-83a5-f4ef5ab95884",
   "metadata": {},
   "outputs": [
    {
     "data": {
      "text/plain": [
       "BFS_path (generic function with 1 method)"
      ]
     },
     "execution_count": 74,
     "metadata": {},
     "output_type": "execute_result"
    }
   ],
   "source": [
    "function BFS_path(S, Δ, s, ts, isReachable)\n",
    "    \n",
    "    # define whether to follow spins or go against them\n",
    "    Q = -Boundary(S, Δ, s) # charge of the (starting) vertex that will be hopping around\n",
    "\n",
    "    seen = zeros(Bool, length(Δ.cells[1]))\n",
    "    comeFrom = zeros(Int, length(Δ.cells[1]))\n",
    "    toExplore = Queue{Int}()\n",
    "    \n",
    "    enqueue!(toExplore, s)\n",
    "    seen[s] = true\n",
    "    \n",
    "    while length(toExplore)> 0\n",
    "        v = dequeue!(toExplore)\n",
    "        \n",
    "        for (e, k) in zip(Δ.cells[1][v].∂ᵀ, Δ.cells[1][v].ηᵀ) # loop over connected edges\n",
    "            \n",
    "            w = Δ.cells[2][e].∂[findfirst(Δ.cells[2][e].∂ .!= v)] # connected vertex\n",
    "            Qw = -Boundary(S, Δ, w) # charge of the target vertex\n",
    "            \n",
    "            Svw = -GetCpt(S, k*e, true) # spin from v to w\n",
    "            \n",
    "            if !seen[w] && isReachable(Svw, Q, Qw)\n",
    "                enqueue!(toExplore, w)\n",
    "                seen[w] = true\n",
    "                comeFrom[w] = v\n",
    "            end\n",
    "        end \n",
    "    end\n",
    "    \n",
    "    ds = zeros(Int, length(ts))\n",
    "    \n",
    "    for n in eachindex(ts)\n",
    "        if s==ts[n]\n",
    "            ds[n] = 0\n",
    "        elseif comeFrom[ts[n]] == 0\n",
    "            ds[n] = -1 # NaN\n",
    "        else\n",
    "            path = [ts[n]]\n",
    "            while comeFrom[path[1]] != s\n",
    "                prepend!(path, comeFrom[path[1]])\n",
    "            end\n",
    "            prepend!(path, s)\n",
    "            \n",
    "            ds[n] = length(path) - 1\n",
    "        end\n",
    "    end\n",
    "\n",
    "    return ds\n",
    "end"
   ]
  },
  {
   "cell_type": "markdown",
   "id": "3b1b752a-c83b-448e-97a5-f3ebc3d41528",
   "metadata": {},
   "source": [
    "Now we want to compute the shortest graph distance as a function of the Euclidean distance (correcting for PBCS)"
   ]
  },
  {
   "cell_type": "code",
   "execution_count": 75,
   "id": "be41eb8b-88f1-43f3-98d8-9d3c625d5fa8",
   "metadata": {},
   "outputs": [
    {
     "data": {
      "text/plain": [
       "#192 (generic function with 1 method)"
      ]
     },
     "execution_count": 75,
     "metadata": {},
     "output_type": "execute_result"
    }
   ],
   "source": [
    "isReachable_SI = (Svw, Qv, Qw) -> Svw == sign(Qv - Qw)\n",
    "isReachable_boring = (Svw, Qv, Qw) -> true"
   ]
  },
  {
   "cell_type": "code",
   "execution_count": 76,
   "id": "e6cfc86d-6de2-4acc-ab8f-525c9f6f67a0",
   "metadata": {},
   "outputs": [],
   "source": [
    "s = js[1]\n",
    "ts = 1:length(Δ.cells[1])\n",
    "\n",
    "\n",
    "ds = BFS_path(S, Δ, s, ts, isReachable_SI);\n",
    "d0s = BFS_path(S, Δ, s, ts, isReachable_boring);"
   ]
  },
  {
   "cell_type": "code",
   "execution_count": 77,
   "id": "0cab49f1-9110-47c2-b2aa-7ddaea89fb21",
   "metadata": {},
   "outputs": [],
   "source": [
    "data = [[d0s[n] ds[n]] for n in eachindex(ds)];\n",
    "dict = countmap(data);\n",
    "\n",
    "dmax = max(maximum(d0s), maximum(ds));\n",
    "\n",
    "N = zeros(Int, dmax+1, dmax+1);\n",
    "\n",
    "for entry in dict\n",
    "    v = entry[1] .+ 1\n",
    "    \n",
    "    if v[2] > 0 # ignore NaN values where ds[n]=-1\n",
    "        N[v[1], v[2]] += entry[2]\n",
    "    end\n",
    "end"
   ]
  },
  {
   "cell_type": "code",
   "execution_count": 78,
   "id": "5d23ec24-2a09-4925-8923-aa3e566f010a",
   "metadata": {},
   "outputs": [],
   "source": [
    "d0s_unique = unique(d0s)\n",
    "ds_avg = zeros(length(d0s_unique))\n",
    "len = zeros(length(d0s_unique))\n",
    "\n",
    "for n in eachindex(d0s_unique)\n",
    "    for m in eachindex(d0s)\n",
    "        if d0s[m]==d0s_unique[n]\n",
    "            len[n] += 1\n",
    "            ds_avg[n] += ds[m]\n",
    "        end\n",
    "    end\n",
    "end\n",
    "\n",
    "ds_avg ./= len;\n",
    "\n",
    "I = sortperm(d0s_unique)\n",
    "d0s_unique = d0s_unique[I];\n",
    "ds_avg = ds_avg[I];"
   ]
  },
  {
   "cell_type": "code",
   "execution_count": 79,
   "id": "a061dd10-3fd9-4ae7-b8c0-e7c20959f294",
   "metadata": {},
   "outputs": [
    {
     "data": {
      "image/png": "[encoded data removed]",
      "text/plain": [
       "Figure(PyObject <Figure size 640x480 with 1 Axes>)"
      ]
     },
     "metadata": {},
     "output_type": "display_data"
    }
   ],
   "source": [
    "upLim = max(maximum(d0s), maximum(ds))+1\n",
    "lowLim = -1;\n",
    "#plot([lowLim, upLim], [lowLim, upLim], c=:black);\n",
    "scatter(d0s, ds, s=5, c=:maroon);\n",
    "\n",
    "plot(d0s_unique, ds_avg, c=:black)\n",
    "\n",
    "# axis(\"equal\");\n",
    "xlim([lowLim, upLim]);\n",
    "ylim([lowLim, upLim]);\n",
    "\n",
    "# -1 values are unreachable so not included in the average or imshow"
   ]
  },
  {
   "cell_type": "code",
   "execution_count": 80,
   "id": "79e19be1-dedc-4ef7-93a6-0561aeaedd2f",
   "metadata": {},
   "outputs": [
    {
     "data": {
      "image/png": "[encoded data removed]",
      "text/plain": [
       "Figure(PyObject <Figure size 640x480 with 1 Axes>)"
      ]
     },
     "metadata": {},
     "output_type": "display_data"
    }
   ],
   "source": [
    "imshow(N', origin=\"lower\");"
   ]
  },
  {
   "cell_type": "code",
   "execution_count": 81,
   "id": "8f913edc-aacd-4c3d-b84a-c41d655d4201",
   "metadata": {},
   "outputs": [
    {
     "ename": "LoadError",
     "evalue": "UndefVarError: t5 not defined",
     "output_type": "error",
     "traceback": [
      "UndefVarError: t5 not defined",
      "",
      "Stacktrace:",
      " [1] top-level scope",
      "   @ In[81]:1"
     ]
    }
   ],
   "source": [
    "print(\"\\nTOTAL RUNTIME = \", canonicalize(t5 - t0))"
   ]
  },
  {
   "cell_type": "code",
   "execution_count": 82,
   "id": "61285764-85c8-4398-be7f-d5dc22c323fd",
   "metadata": {},
   "outputs": [],
   "source": [
    "close(\"all\") "
   ]
  }
 ],
 "metadata": {
  "jupytext": {
   "encoding": "# -*- coding: utf-8 -*-",
   "formats": "ipynb,jl:light"
  },
  "kernelspec": {
   "display_name": "Julia 1.9.4",
   "language": "julia",
   "name": "julia-1.9"
  },
  "language_info": {
   "file_extension": ".jl",
   "mimetype": "application/julia",
   "name": "julia",
   "version": "1.9.4"
  },
  "toc-autonumbering": false,
  "toc-showcode": true,
  "toc-showmarkdowntxt": false
 },
 "nbformat": 4,
 "nbformat_minor": 5
}
