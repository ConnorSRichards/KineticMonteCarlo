{
 "cells": [
  {
   "cell_type": "markdown",
   "id": "5b2cd184-b641-46dc-9860-b2da046438d1",
   "metadata": {},
   "source": [
    "## Setup"
   ]
  },
  {
   "cell_type": "code",
   "execution_count": 1,
   "id": "2738d463-ba45-4f0a-966f-072f1db5bdfe",
   "metadata": {},
   "outputs": [],
   "source": [
    "#%matplotlib widget;\n",
    "#%matplotlib inline;\n",
    "#pygui(true);"
   ]
  },
  {
   "cell_type": "code",
   "execution_count": 2,
   "id": "5116a067-9fee-49d0-8fa5-dbcf3818b427",
   "metadata": {},
   "outputs": [
    {
     "name": "stderr",
     "output_type": "stream",
     "text": [
      "\u001b[32m\u001b[1m  Activating\u001b[22m\u001b[39m project at `C:\\Users\\conno\\Documents\\CAMBRIDGE\\Part III\\Comp Project\\JULIA\\PROJECT`"
     ]
    },
    {
     "name": "stdout",
     "output_type": "stream",
     "text": [
      "Num threads: 6"
     ]
    },
    {
     "name": "stderr",
     "output_type": "stream",
     "text": [
      "\n"
     ]
    },
    {
     "name": "stdout",
     "output_type": "stream",
     "text": [
      "\n",
      "\n"
     ]
    },
    {
     "data": {
      "text/plain": [
       "2023-05-13T18:07:27.756"
      ]
     },
     "execution_count": 2,
     "metadata": {},
     "output_type": "execute_result"
    }
   ],
   "source": [
    "dir = dirname(pwd()) * \"/PROJECT\"\n",
    "include(dir * \"/functions/Preamble.jl\")\n",
    "@everywhere dir = dirname(pwd()) * \"/PROJECT\"\n",
    "\n",
    "t0 = now()"
   ]
  },
  {
   "cell_type": "code",
   "execution_count": 3,
   "id": "a0a422f2-b737-4b8f-a546-344f018c025e",
   "metadata": {},
   "outputs": [],
   "source": [
    "@everywhere include(dir * \"/functions/DataStructure.jl\")\n",
    "@everywhere include(dir * \"/functions/Bases.jl\")\n",
    "@everywhere include(dir * \"/functions/Plotting.jl\")\n",
    "@everywhere include(dir * \"/functions/Statistics.jl\")\n",
    "@everywhere include(dir * \"/functions/Simulation.jl\")\n",
    "@everywhere include(dir * \"/functions/SingleVertexApproxns.jl\")\n",
    "\n",
    "@everywhere include(dir * \"/functions/simulationFunctions/GroundStates.jl\")"
   ]
  },
  {
   "cell_type": "markdown",
   "id": "cf06c27d-88d1-4335-a147-edcdc6735b6c",
   "metadata": {},
   "source": [
    "## GLOBAL INPUTS"
   ]
  },
  {
   "cell_type": "markdown",
   "id": "5f59a1b9-7980-4548-be5f-5c2d337b6bd6",
   "metadata": {},
   "source": [
    "### Energy Scales"
   ]
  },
  {
   "cell_type": "code",
   "execution_count": 4,
   "id": "193afe93-556a-493e-b35d-4527a51e1457",
   "metadata": {},
   "outputs": [],
   "source": [
    "# Hamiltonian constants\n",
    "@everywhere global const λ::Float64 = 1\n",
    "@everywhere global const ξ::Float64 = 0\n",
    "\n",
    "# which dynamics to use (only affects microcanonical functions)\n",
    "@everywhere global const twoFlip::Bool = true\n",
    "\n",
    "# demon quantisation\n",
    "@assert (λ==1 && ξ==0) || (λ==0 && ξ==1) # otherwise demons will break b/c not quantised\n",
    "@everywhere global isSpinIce = (λ==0 && ξ==1)\n",
    "@everywhere global const δE::Int = (λ==0) ? 8*ξ : 4*λ"
   ]
  },
  {
   "cell_type": "markdown",
   "id": "972a5f30-9ed3-4a87-90bd-47b4b8192988",
   "metadata": {},
   "source": [
    "### Lattice"
   ]
  },
  {
   "cell_type": "code",
   "execution_count": 5,
   "id": "dc7adfc6-f46f-46ce-90d0-cca9f1386675",
   "metadata": {},
   "outputs": [],
   "source": [
    "# chosen basis\n",
    "@everywhere Basis = HexBasis() # CubicBasis(2) # HexBasis() # DiamondBasis()\n",
    "\n",
    "# coordination number of lattice (ASSERTED CONSTANT FOR OUR PURPOSES)\n",
    "@everywhere z = Coordination(Basis)\n",
    "\n",
    "# function to generate groundstate\n",
    "@everywhere isDiamond = (z==4 && length(Basis[4])==3) # certainly not general, but avoids human error in me setting the ground state explicitly...\n",
    "@everywhere GroundState!(vertices, edges) = GroundState!(vertices, edges, isDiamond)"
   ]
  },
  {
   "cell_type": "code",
   "execution_count": 6,
   "id": "166c03ab-a267-4a8a-9546-576e330eee86",
   "metadata": {},
   "outputs": [],
   "source": [
    "# Approxn of self-diffusion coeff at zero density\n",
    "\n",
    "@everywhere q = (mod(z,2)==0) ? 2 : 3 # minimal excitation charge |Q|\n",
    "@everywhere na = (q + z) / 2 # number of allowed directions which don't increase |Q| on site\n",
    "\n",
    "@everywhere global Dself = ((!isSpinIce || na==z) ? z : na*(1-2/na^2)) / 2 / length(Basis[4])"
   ]
  },
  {
   "cell_type": "markdown",
   "id": "25c581f8-1058-4686-b140-fd8ba3031bf0",
   "metadata": {},
   "source": [
    "### Approxns"
   ]
  },
  {
   "cell_type": "code",
   "execution_count": 7,
   "id": "61d96bc1-e716-4603-a829-c3a7fa2a3f9b",
   "metadata": {},
   "outputs": [
    {
     "data": {
      "text/plain": [
       "#67 (generic function with 1 method)"
      ]
     },
     "execution_count": 7,
     "metadata": {},
     "output_type": "execute_result"
    }
   ],
   "source": [
    "if twoFlip\n",
    "    Kfun = (T, h) -> Dself ./ 2 .* (0.5 .* δE ./ T).^2 .* ExcitationDensity(T, h, z) .* (1 .- AllExcitationDensity(T, h, z)) .* (1 .- Magnetisation(T, h, z)) ./ 2 # additional magnetisation factor for +-+- bond percolation\n",
    "else\n",
    "    Kfun = (T, h) -> Dself ./ 2 .* (0.5 .* δE ./ T).^2 .* ExcitationDensity(T, h, z) .* (1 .- AllExcitationDensity(T, h, z))\n",
    "end\n",
    "\n",
    "Cfun = (T, h) -> 2/z .* (λ^2 .* sech.(λ ./T).^2 + 2 * h^2 .* sech.(h ./T).^2) ./ T.^2\n",
    "\n",
    "if twoFlip\n",
    "    Dfun = (T, h) -> Kfun(T, h) ./ Cfun(T, h)\n",
    "else\n",
    "    Dfun = (T, h) -> Kfun(T, h) ./ HeatCapacity(T, h, z)\n",
    "end"
   ]
  },
  {
   "cell_type": "markdown",
   "id": "4ca94c9b-d665-4dbb-87db-99d8f15fe008",
   "metadata": {},
   "source": [
    "### Testing Data Structure"
   ]
  },
  {
   "cell_type": "code",
   "execution_count": 19,
   "id": "c67cf0c3-ce50-4dc7-8cac-90edb07350c7",
   "metadata": {},
   "outputs": [],
   "source": [
    "TestBasis = HexBasis()\n",
    "vertices, edges = LatticeGrid([4, 6], [false, false], TestBasis)\n",
    "\n",
    "GroundState!(vertices, edges, false)\n",
    "\n",
    "Lvertices, Ledges = LineGraph(vertices, edges);"
   ]
  },
  {
   "cell_type": "code",
   "execution_count": 20,
   "id": "6af54a35-4eeb-4149-bc1e-7d6e0001b4b6",
   "metadata": {},
   "outputs": [
    {
     "data": {
      "image/png": "[encoded data removed]",
      "text/plain": [
       "Figure(PyObject <Figure size 640x480 with 1 Axes>)"
      ]
     },
     "metadata": {},
     "output_type": "display_data"
    }
   ],
   "source": [
    "f = figure()\n",
    "for e in edges\n",
    "    r1 = vertices[e.∂[1]].x\n",
    "    r2 = vertices[e.∂[2]].x\n",
    "    \n",
    "    if length(TestBasis[4]) == 2\n",
    "        plot([r1[1]; r2[1]], [r1[2]; r2[2]], color=:black, zorder=1)\n",
    "    else\n",
    "        plot3D([r1[1]; r2[1]], [r1[2]; r2[2]], [r1[3]; r2[3]], color=(e.σ ? :red : :blue), zorder=1) \n",
    "    end\n",
    "end\n",
    "\n",
    "for v in vertices\n",
    "    if length(TestBasis[4]) == 2\n",
    "        scatter(v.x[1], v.x[2], color=:black, zorder=3)\n",
    "    else\n",
    "        scatter3D(v.x[1], v.x[2], v.x[3], color=:black, zorder=2)\n",
    "    end\n",
    "end\n",
    "\n",
    "for e in Ledges\n",
    "    r1 = Lvertices[e.∂[1]].x\n",
    "    r2 = Lvertices[e.∂[2]].x\n",
    "    \n",
    "    if length(TestBasis[4]) == 2\n",
    "        plot([r1[1]; r2[1]], [r1[2]; r2[2]], color=:gray, zorder=2, \"--\") \n",
    "    else\n",
    "        plot3D([r1[1]; r2[1]], [r1[2]; r2[2]], [r1[3]; r2[3]], color=:gray, zorder=1, \"--\") \n",
    "    end\n",
    "    #\n",
    "end\n",
    "\n",
    "for v in Lvertices\n",
    "    if length(TestBasis[4]) == 2\n",
    "        scatter(v.x[1], v.x[2], color=(v.σ ? :red : :blue), s=10, zorder=4) # color=(A(edges,v)<0 ? :yellow : :black)  \n",
    "    else\n",
    "        scatter3D(v.x[1], v.x[2], v.x[3], color=(v.σ ? :red : :blue), s=10, zorder=2) # color=(A(edges,v)<0 ? :yellow : :black)  \n",
    "    end\n",
    "end\n",
    "\n",
    "axis(\"equal\")\n",
    "savefig(\"figs/lattice.pdf\")"
   ]
  },
  {
   "cell_type": "markdown",
   "id": "ebc4b6cb-aac8-4f9d-9c25-244f936fe15f",
   "metadata": {},
   "source": [
    "## Thermal Conductivity"
   ]
  },
  {
   "cell_type": "markdown",
   "id": "a33573fc-9e0a-4a36-aa94-1055644dec37",
   "metadata": {},
   "source": [
    "## Thermal Bath Method\n"
   ]
  },
  {
   "cell_type": "code",
   "execution_count": null,
   "id": "e5c5ee78-4037-4f4a-9c7d-57a78a4e81d3",
   "metadata": {},
   "outputs": [],
   "source": [
    "@everywhere include(dir * \"/functions/simulationFunctions/DemonHeatBath.jl\")"
   ]
  },
  {
   "cell_type": "code",
   "execution_count": null,
   "id": "06bbb354-ab8b-4df0-b47f-04aef998ebd1",
   "metadata": {},
   "outputs": [],
   "source": [
    "L = [6, 6]\n",
    "PBC = [false, true]\n",
    "\n",
    "𝒽 = [0.0]\n",
    "\n",
    "num_histories = 1\n",
    "therm_runtime = 100\n",
    "runtime = 200\n",
    "t_therm = 100\n",
    "t_autocorr = 1\n",
    "N_blocks = -1\n",
    "\n",
    "W = 5\n",
    "Tc = 0.1\n",
    "Th = 10.0\n",
    "\n",
    "T, κ, C, Diff, TStd, κStd, CStd, DiffStd = BathSimulation(L, PBC, Basis, W, Tc, Th, num_histories, therm_runtime, runtime, t_therm, t_autocorr, N_blocks, 𝒽);\n",
    "\n",
    "idx = W+1:size(T, 2)-W+1;"
   ]
  },
  {
   "cell_type": "code",
   "execution_count": null,
   "id": "259148b9-39d0-495a-a4c3-cedec61be742",
   "metadata": {},
   "outputs": [],
   "source": [
    "# FUDGE FACTOR - WHYYY MISSING FACTOR 1/2????\n",
    "κ[1,:,:] ./= 2;\n",
    "κ[2,:,:] ./= 2;"
   ]
  },
  {
   "cell_type": "code",
   "execution_count": null,
   "id": "12d49581-4b49-4492-a435-31175cc81a6f",
   "metadata": {},
   "outputs": [],
   "source": [
    "colors = jetmap(length(𝒽))"
   ]
  },
  {
   "cell_type": "code",
   "execution_count": null,
   "id": "79742103-7f64-464b-9a8f-41d50a23398d",
   "metadata": {},
   "outputs": [],
   "source": [
    "figure()\n",
    "for i in eachindex(𝒽)\n",
    "    plotWithError(T[1,:,i], 1:size(T, 2), colors[i], \"+\", TStd[1,:,i])\n",
    "    plotWithError(T[2,:,i], 1:size(T, 2), colors[i], \"x\", TStd[2,:,i])\n",
    "end\n",
    "savefig(\"figs/Demon_Bath_Temperatures.png\")"
   ]
  },
  {
   "cell_type": "code",
   "execution_count": null,
   "id": "c373b194-9bd6-40f9-b1ec-57d6a7ce6de7",
   "metadata": {},
   "outputs": [],
   "source": [
    "figure()\n",
    "for i in eachindex(𝒽)\n",
    "    #plot(T[1,idx,i], Cfun(T[1,idx,i], 𝒽[i]), color=colors[i])\n",
    "    #plot(T[1,idx,i], HeatCapacity(T[1,idx,i], 𝒽[i], z), color=colors[i], \"--\")\n",
    "    \n",
    "    plotWithError(C[1,idx,i], T[1,idx,i], colors[i], \"+\")#, CStd[1,idx,i], TStd[1,idx,i])\n",
    "    plotWithError(C[2,idx,i], T[2,idx,i], colors[i], \"x\")#, CStd[2,idx,i], TStd[2,idx,i])\n",
    "end\n",
    "ylim([0, 2])\n",
    "savefig(\"figs/Demon_Bath_Capacity.png\")"
   ]
  },
  {
   "cell_type": "code",
   "execution_count": null,
   "id": "838324e4-369e-4f2e-a18a-12e0718c7e4c",
   "metadata": {},
   "outputs": [],
   "source": [
    "figure()\n",
    "for i in eachindex(𝒽)\n",
    "    plot(T[1,idx,i], Kfun(T[1,idx,i], 𝒽[i]), color=colors[i])\n",
    "    \n",
    "    plotWithError(κ[1,idx,i], T[1,idx,i], colors[i], \"+\")#, κStd[1,idx,i], TStd[1,idx,i])\n",
    "    plotWithError(κ[2,idx,i], T[2,idx,i], colors[i], \"x\")#, κStd[2,idx,i], TStd[2,idx,i])\n",
    "end\n",
    "\n",
    "savefig(\"figs/Demon_Bath_Conductivity.png\")"
   ]
  },
  {
   "cell_type": "code",
   "execution_count": null,
   "id": "5525cb55-6f3c-4e87-8f13-6a22766f51cc",
   "metadata": {},
   "outputs": [],
   "source": [
    "figure()\n",
    "for i in eachindex(𝒽)\n",
    "    plot(T[1,idx,i], Dfun(T[1,idx,i], 𝒽[i]), color=colors[i])\n",
    "    plotWithError(Diff[1,idx,i], T[1,idx,i], colors[i], \"+\")#, DiffStd[1,idx,i], TStd[1,idx,i])\n",
    "    \n",
    "    plot(T[2,idx,i], Dfun(T[2,idx,i], 𝒽[i]), color=colors[i], \"--\")\n",
    "    plotWithError(Diff[2,idx,i], T[2,idx,i], colors[i], \"x\")#, DiffStd[2,idx,i], TStd[2,idx,i])\n",
    "end\n",
    "savefig(\"figs/Demon_Bath_Diffusivity.png\")"
   ]
  },
  {
   "cell_type": "code",
   "execution_count": null,
   "id": "29c98868-4fee-4239-959c-9f8211e02781",
   "metadata": {},
   "outputs": [],
   "source": [
    "save(\"data/DemonBath.jld\", \"Size\", L, \n",
    "                           \"Fields\", 𝒽, \n",
    "                           \"num_histories\", num_histories, \n",
    "                           \"therm_runtime\", therm_runtime, \n",
    "                           \"runtime\", runtime, \n",
    "                           \"t_therm\", t_therm, \n",
    "                           \"basis\", Basis, \n",
    "                           \"lambda\", λ, \n",
    "                           \"xi\", ξ, \n",
    "                           \"EnergyQuantisation\", δE, \n",
    "                           \"Dself\", Dself, \n",
    "                           \"twoFlip\", twoFlip, \n",
    "                           \"idx\", idx, \n",
    "                           \"Temperature\", T, \n",
    "                           \"TemperatureStd\", TStd, \n",
    "                           \"Conductivity\", κ, \n",
    "                           \"ConductivityStd\", κStd, \n",
    "                           \"Capacity\", C, \n",
    "                           \"CapacityStd\", CStd, \n",
    "                           \"Diffusivity\", Diff, \n",
    "                           \"DiffusivityStd\", DiffStd)"
   ]
  },
  {
   "cell_type": "code",
   "execution_count": null,
   "id": "fd73bb75-6f0d-410d-8ff2-55d3e3b406eb",
   "metadata": {},
   "outputs": [],
   "source": [
    "T       = Nothing\n",
    "κ       = Nothing\n",
    "C       = Nothing\n",
    "Diff    = Nothing\n",
    "TStd    = Nothing\n",
    "κStd    = Nothing\n",
    "CStd    = Nothing\n",
    "DiffStd = Nothing"
   ]
  },
  {
   "cell_type": "code",
   "execution_count": null,
   "id": "957893fd-4b64-4bcb-8bab-ddac8825e803",
   "metadata": {},
   "outputs": [],
   "source": [
    "t1 = now()\n",
    "print(\"\\n\", canonicalize(t1 - t0))"
   ]
  },
  {
   "cell_type": "markdown",
   "id": "5bc7c37f-1f3a-4e5c-9b53-69a3fc3bde36",
   "metadata": {},
   "source": [
    "## Green-Kubo Method\n",
    "\n",
    "### Demon Dynamics"
   ]
  },
  {
   "cell_type": "code",
   "execution_count": null,
   "id": "46f09363-a7b1-425e-b1b7-ea96fb87b9dd",
   "metadata": {},
   "outputs": [],
   "source": [
    "@everywhere include(dir * \"/functions/simulationFunctions/DemonKubo.jl\")"
   ]
  },
  {
   "cell_type": "code",
   "execution_count": null,
   "id": "78720066-08fc-405b-9f03-ebf1590862b2",
   "metadata": {},
   "outputs": [],
   "source": [
    "#global testing = []\n",
    "\n",
    "# PARAMETERS\n",
    "L = [5, 5]\n",
    "PBC = [true, true]\n",
    "\n",
    "# find minimal representable temperature (just done for 𝒽=0 for now - MAYBE MODIFY TO PICK MAX OVER DIFF FIELDS??\n",
    "#Nmin = (T,h) -> (λ == 0 ? 2/(4*exp(-4/T)/3+h*exp(-2*h/T)) : 2/(exp(-2/T)+2*h*exp(-2*h/T))) # minimal lattice size on which T=Tmin is possible - see https://www.desmos.com/calculator/ll1ljvjmcg for details\n",
    "Tmin = 0.1 # find_zero((T) -> prod(L)-Nmin(T,0), 0.3)\n",
    "Tmax = 10.0\n",
    "NumT = 50\n",
    "T = collect(range(Tmin, Tmax, length=NumT)) # the +0.1 is a fudge factor to fix our approximations earlier... (exact value doesn't matter b/c just adds ~a single demon)\n",
    "\n",
    "𝒽 = [0.0] # range(0, 2, length=9)\n",
    "\n",
    "num_histories = 1\n",
    "runtime = 1500\n",
    "t_therm = 500\n",
    "t_cutoff = 100\n",
    "t_autocorr = 100\n",
    "N_blocks = -1\n",
    "\n",
    "# EVALUATION\n",
    "Tobs, κ, C, Diff, TobsStd, κStd, CStd, DiffStd = DKuboSimulation(L, PBC, Basis, num_histories, runtime, t_therm, t_autocorr, N_blocks, t_cutoff, T, 𝒽);"
   ]
  },
  {
   "cell_type": "code",
   "execution_count": null,
   "id": "23f8a926-db3c-4287-a275-3bccee0a5ba1",
   "metadata": {},
   "outputs": [],
   "source": [
    "now()"
   ]
  },
  {
   "cell_type": "code",
   "execution_count": null,
   "id": "af327c03-043e-4080-b300-50ad7886011c",
   "metadata": {},
   "outputs": [],
   "source": [
    "colors = jetmap(length(𝒽))"
   ]
  },
  {
   "cell_type": "code",
   "execution_count": null,
   "id": "1e8aba14-e135-4b22-a8cb-ab8a8c93296f",
   "metadata": {
    "tags": []
   },
   "outputs": [],
   "source": [
    "figure()\n",
    "for i in eachindex(𝒽)\n",
    "    plotWithError(Tobs[:,i], T, colors[i], \".\", \"\" , TobsStd[:,i])\n",
    "end\n",
    "savefig(\"figs/Demon_Kubo_Temperature.png\")\n",
    "# Just to check that out temperature estimates aren't too far off"
   ]
  },
  {
   "cell_type": "code",
   "execution_count": null,
   "id": "19ed4af4-3b80-4f5c-bfc1-2d79810e0b40",
   "metadata": {},
   "outputs": [],
   "source": [
    "figure()\n",
    "for i in eachindex(𝒽)\n",
    "    plot(T[2:end], Kfun(T[2:end], 𝒽[i]), color=colors[i])\n",
    "    plotWithError(κ[:,i], Tobs[:,i], colors[i], \".\", \"\" , κStd[:,i], TobsStd[:,i])\n",
    "end\n",
    "savefig(\"figs/Demon_Kubo_Conductivity.png\")"
   ]
  },
  {
   "cell_type": "code",
   "execution_count": null,
   "id": "d60df288-aefd-44c0-8380-241ef530db2d",
   "metadata": {},
   "outputs": [],
   "source": [
    "figure()\n",
    "for i in eachindex(𝒽)\n",
    "    plot(T[2:end], Cfun(T[2:end], 𝒽[i]), color=colors[i])\n",
    "    \n",
    "    plotWithError(C[:,i], Tobs[:,i], colors[i], \".\", \"\" , CStd[:,i], TobsStd[:,i])\n",
    "end\n",
    "savefig(\"figs/Demon_Kubo_Capacity.png\")"
   ]
  },
  {
   "cell_type": "code",
   "execution_count": null,
   "id": "ec3f2e0f-2037-452e-826e-b57a8a9af5bc",
   "metadata": {},
   "outputs": [],
   "source": [
    "figure()\n",
    "for i in eachindex(𝒽)\n",
    "    plot(T[2:end], Dfun(T[2:end], 𝒽[i]), color=colors[i])\n",
    "    \n",
    "    plotWithError(Diff[:,i], Tobs[:,i], colors[i], \".\", \"\" , DiffStd[:,i], TobsStd[:,i])\n",
    "end\n",
    "savefig(\"figs/Demon_Kubo_Diff.png\")"
   ]
  },
  {
   "cell_type": "code",
   "execution_count": null,
   "id": "f19ed7f8-442e-429b-97a7-29c912b882e5",
   "metadata": {},
   "outputs": [],
   "source": [
    "save(\"data/DemonKubo.jld\", \"Size\", L, \n",
    "                           \"Fields\", 𝒽, \n",
    "                           \"num_histories\", num_histories, \n",
    "                           \"therm_runtime\", therm_runtime, \n",
    "                           \"runtime\", runtime, \n",
    "                           \"t_therm\", t_therm, \n",
    "                           \"t_cutoff\", t_cutoff, \n",
    "                           \"basis\", Basis,\n",
    "                           \"lambda\", λ, \n",
    "                           \"xi\", ξ, \n",
    "                           \"EnergyQuantisation\", δE,\n",
    "                           \"Dself\", Dself, \n",
    "                           \"twoFlip\", twoFlip, \n",
    "                           \"TargetTemperature\", T, \n",
    "                           \"ObservedTemperature\", Tobs, \n",
    "                           \"ObservedTemperatureStd\", TobsStd, \n",
    "                           \"Conductivity\", κ, \n",
    "                           \"ConductivityStd\", κStd, \n",
    "                           \"Capacity\", C, \n",
    "                           \"CapacityStd\", CStd, \n",
    "                           \"Diffusivity\", Diff, \n",
    "                           \"DiffusivityStd\", DiffStd)"
   ]
  },
  {
   "cell_type": "code",
   "execution_count": null,
   "id": "4bb297bb-db7d-4da4-bfe2-409a0dadb0a0",
   "metadata": {},
   "outputs": [],
   "source": [
    "Tobs    = Nothing\n",
    "κ       = Nothing\n",
    "C       = Nothing\n",
    "Diff    = Nothing\n",
    "TobsStd = Nothing\n",
    "κStd    = Nothing\n",
    "CStd    = Nothing\n",
    "DiffStd = Nothing"
   ]
  },
  {
   "cell_type": "code",
   "execution_count": null,
   "id": "d1325161-6492-4689-afbe-f99e7dc934dc",
   "metadata": {},
   "outputs": [],
   "source": [
    "t2 = now()\n",
    "print(canonicalize(t2 - t1))"
   ]
  },
  {
   "cell_type": "markdown",
   "id": "0366f56d-8fe1-45d7-b115-c24c67e47da1",
   "metadata": {},
   "source": [
    "### Microcanonical Dynamics"
   ]
  },
  {
   "cell_type": "code",
   "execution_count": 18,
   "id": "44e8d3ab-1d87-494d-a7a9-4f576ddde48c",
   "metadata": {},
   "outputs": [],
   "source": [
    "@everywhere include(dir * \"/functions/simulationFunctions/MicroKubo.jl\")"
   ]
  },
  {
   "cell_type": "code",
   "execution_count": 19,
   "id": "5a2ae484-a98b-47ae-b3b6-a4f66066d1ea",
   "metadata": {},
   "outputs": [],
   "source": [
    "# PARAMETERS\n",
    "L = [32, 32]\n",
    "PBC = [true, true]\n",
    "\n",
    "Tmin = 0.01\n",
    "Tmax = 10.0\n",
    "NumT = 50\n",
    "\n",
    "#Tmax *= (λ == 0 ? 1.0 : 0.5)\n",
    "T = collect(range(Tmin, Tmax, length=NumT))\n",
    "\n",
    "𝒽 = range(0, 1, length=7)\n",
    "\n",
    "num_histories = 25\n",
    "therm_runtime = 15000\n",
    "runtime = 15000\n",
    "t_therm = 5000\n",
    "t_autocorr = 100\n",
    "N_blocks = -1\n",
    "t_cutoff = 100\n",
    "\n",
    "allComponents = false\n",
    "\n",
    "# EVALUATION\n",
    "κ, C, Diff, M, ℙ, κStd, CStd, DiffStd, MStd, ℙStd = MKuboSimulation(L, PBC, Basis, num_histories, runtime, therm_runtime, t_therm, t_autocorr, N_blocks, t_cutoff, T, 𝒽, allComponents);"
   ]
  },
  {
   "cell_type": "code",
   "execution_count": 20,
   "id": "923a7ae2-6802-4a1a-840c-1c15e3455d60",
   "metadata": {},
   "outputs": [
    {
     "data": {
      "text/plain": [
       "2023-05-13T19:51:48.063"
      ]
     },
     "execution_count": 20,
     "metadata": {},
     "output_type": "execute_result"
    }
   ],
   "source": [
    "now()"
   ]
  },
  {
   "cell_type": "code",
   "execution_count": 21,
   "id": "810c62c4-8c0c-44bd-8dfb-2ed2c6d0f1ff",
   "metadata": {},
   "outputs": [],
   "source": [
    "colors = jetmap(length(𝒽));"
   ]
  },
  {
   "cell_type": "code",
   "execution_count": 22,
   "id": "1442c11d-88b5-4fe9-9891-522a6d8b81f2",
   "metadata": {},
   "outputs": [
    {
     "data": {
      "image/png": "[encoded data removed]",
      "text/plain": [
       "Figure(PyObject <Figure size 640x480 with 1 Axes>)"
      ]
     },
     "metadata": {},
     "output_type": "display_data"
    }
   ],
   "source": [
    "figure()\n",
    "Tfun = (M, h) -> (h .+ 0.5 .* M .^ 3) ./ atanh.(M)\n",
    "function Mfun(T, h)\n",
    "    m = zeros(length(T))\n",
    "    \n",
    "    if h==0\n",
    "        return m\n",
    "    end\n",
    "    \n",
    "    for i in eachindex(T)\n",
    "        m[i] = find_zero((M) -> Tfun(M, h) - T[i], (0, 1))\n",
    "    end\n",
    "    return m\n",
    "end\n",
    "\n",
    "Mfun0 = (T, h) -> tanh.(h ./ T)\n",
    "\n",
    "for n in eachindex(𝒽)\n",
    "    plot(T, Magnetisation(T, 𝒽[n], z), color=colors[n])\n",
    "    plot(T, tanh.(𝒽[n] ./ T), \"--\", color=colors[n])\n",
    "    scatter(T, M[:,n], color=colors[n])\n",
    "end\n",
    "savefig(\"figs/Micro_Kubo_Magnetisation.png\")"
   ]
  },
  {
   "cell_type": "code",
   "execution_count": 23,
   "id": "0c75afc0-d10c-44eb-8198-98af2a66181f",
   "metadata": {},
   "outputs": [
    {
     "data": {
      "image/png": "[encoded data removed]",
      "text/plain": [
       "Figure(PyObject <Figure size 640x480 with 1 Axes>)"
      ]
     },
     "metadata": {},
     "output_type": "display_data"
    }
   ],
   "source": [
    "figure()\n",
    "#ℙfunMF = (T, h) -> 1 .- (1 .- Mfun0(T, h) .^2) ./ 3\n",
    "ℙfunLim = (T, h) -> 1 .- (1 .- Magnetisation(T, h, z) .^2) ./ 4\n",
    "\n",
    "for n in eachindex(𝒽)\n",
    "    plot(T, ℙfunLim(T, 𝒽[n]), color=colors[n])\n",
    "    scatter(T, ℙ[:,n], color=colors[n])\n",
    "end\n",
    "savefig(\"figs/Micro_Kubo_Percolation.png\")"
   ]
  },
  {
   "cell_type": "code",
   "execution_count": 24,
   "id": "9ec06e7b-451c-4bcb-b613-0251c4eb0cb9",
   "metadata": {},
   "outputs": [
    {
     "data": {
      "image/png": "[encoded data removed]",
      "text/plain": [
       "Figure(PyObject <Figure size 640x480 with 1 Axes>)"
      ]
     },
     "metadata": {},
     "output_type": "display_data"
    }
   ],
   "source": [
    "dim = allComponents ? length(L) : 1\n",
    "for i in 1:dim\n",
    "    for j in 1:dim\n",
    "        figure()\n",
    "        for n in eachindex(𝒽)\n",
    "            plot(T[2:end], Kfun(T[2:end], 𝒽[n]), color=colors[n])\n",
    "\n",
    "            plotWithError(κ[i,j,:,n], T, colors[n], \".\", \"\" , κStd[i,j,:,n])\n",
    "        end\n",
    "        \n",
    "        savefig(\"figs/Micro_Kubo_Conductivity_\" * string(i) * string(j) * \".png\")\n",
    "    end\n",
    "end"
   ]
  },
  {
   "cell_type": "code",
   "execution_count": 25,
   "id": "c86c97f1-83d9-4390-a1a9-3d37e7a3cfcf",
   "metadata": {},
   "outputs": [
    {
     "data": {
      "image/png": "[encoded data removed]",
      "text/plain": [
       "Figure(PyObject <Figure size 640x480 with 1 Axes>)"
      ]
     },
     "metadata": {},
     "output_type": "display_data"
    }
   ],
   "source": [
    "figure()\n",
    "for n in eachindex(𝒽)\n",
    "    #plot(T[2:end], Cfun(T[2:end], 𝒽[n]), color=colors[n])\n",
    "    plot(T, HeatCapacity(T, 𝒽[n], z), \"--\", color=colors[n])\n",
    "    \n",
    "    plotWithError(C[:,n], T, colors[n], \".\", \"\" , CStd[:,n])\n",
    "end\n",
    "savefig(\"figs/Micro_Kubo_Capacity.png\")"
   ]
  },
  {
   "cell_type": "code",
   "execution_count": 30,
   "id": "f44d6c23",
   "metadata": {},
   "outputs": [
    {
     "data": {
      "image/png": "[encoded data removed]",
      "text/plain": [
       "Figure(PyObject <Figure size 640x480 with 1 Axes>)"
      ]
     },
     "metadata": {},
     "output_type": "display_data"
    }
   ],
   "source": [
    "figure()\n",
    "for i in 1:dim\n",
    "    for j in 1:dim\n",
    "        figure()\n",
    "        for n in eachindex(𝒽)\n",
    "            plot(T[2:end], Dfun(T[2:end], 𝒽[n]), color=colors[n])\n",
    "            plot(T[2:end], Kfun(T[2:end], 𝒽[n]) ./ HeatCapacityTest(T[2:end], 𝒽[n], z), \"--\")\n",
    "\n",
    "            plotWithError(Diff[i,j,:,n], T, colors[n], \".\", \"\" , DiffStd[i,j,:,n])\n",
    "        end\n",
    "        \n",
    "        savefig(\"figs/Micro_Kubo_Diff_\" * string(i) * string(j) * \".png\")\n",
    "    end\n",
    "end"
   ]
  },
  {
   "cell_type": "code",
   "execution_count": null,
   "id": "39ca0504-f53c-4d00-b638-c1613c1c8ad0",
   "metadata": {},
   "outputs": [],
   "source": [
    "save(\"data/MicroKubo.jld\", \"Size\", L,\n",
    "                           \"Fields\", 𝒽,\n",
    "                           \"num_histories\", num_histories,\n",
    "                           \"therm_runtime\", therm_runtime,\n",
    "                           \"runtime\", runtime,\n",
    "                           \"t_therm\", t_therm,\n",
    "                           \"t_cutoff\", t_cutoff,\n",
    "                           \"basis\", Basis,\n",
    "                           \"lambda\", λ,\n",
    "                           \"xi\", ξ,\n",
    "                           \"EnergyQuantisation\", δE,\n",
    "                           \"Dself\", Dself,\n",
    "                           \"twoFlip\", twoFlip,\n",
    "                           \"allComponents\", allComponents,\n",
    "                           \"Temperature\", T,\n",
    "                           \"Magnetisation\", M,\n",
    "                           \"Percolation\", ℙ,\n",
    "                           \"Conductivity\", κ,\n",
    "                           \"ConductivityStd\", κStd,\n",
    "                           \"Capacity\", C,\n",
    "                           \"CapacityStd\", CStd,\n",
    "                           \"Diffusivity\", Diff,\n",
    "                           \"DiffusivityStd\", DiffStd)"
   ]
  },
  {
   "cell_type": "code",
   "execution_count": null,
   "id": "c36ded31-d929-4685-8d6c-a1171d20af6b",
   "metadata": {},
   "outputs": [],
   "source": [
    "κ       = Nothing\n",
    "C       = Nothing\n",
    "Diff    = Nothing\n",
    "M       = Nothing\n",
    "ℙ       = Nothing\n",
    "κStd    = Nothing\n",
    "CStd    = Nothing\n",
    "DiffStd = Nothing\n",
    "MStd    = Nothing\n",
    "ℙStd    = Nothing"
   ]
  },
  {
   "cell_type": "code",
   "execution_count": null,
   "id": "88d92e36-e40f-4c4c-9b12-ecb6d637082c",
   "metadata": {},
   "outputs": [],
   "source": [
    "t3 = now()\n",
    "print(\"\\n\", canonicalize(t3 - t2))"
   ]
  },
  {
   "cell_type": "markdown",
   "id": "1d4050ea-2a4a-4ffb-a5f4-b7c1125bfbe3",
   "metadata": {},
   "source": [
    "### Diffusive Motion"
   ]
  },
  {
   "cell_type": "code",
   "execution_count": null,
   "id": "31879698-fff0-4a21-b212-58340d62cfaa",
   "metadata": {},
   "outputs": [],
   "source": [
    "@everywhere include(dir * \"/functions/simulationFunctions/MicroDiffusion.jl\")"
   ]
  },
  {
   "cell_type": "code",
   "execution_count": null,
   "id": "4ccecc5d-e068-4996-9aa8-dbc1f4e62e6e",
   "metadata": {},
   "outputs": [],
   "source": [
    "L = [32, 32]\n",
    "PBC = [true, true]\n",
    "\n",
    "therm_runtime = floor(Int64,(maximum(L)./2)^2/2/length(L)/Dself) # 500\n",
    "runtime = 1000\n",
    "tau = 2:100\n",
    "num_histories = 1\n",
    "𝒽 = [0.0] #range(0, 2, length=5)\n",
    "\n",
    "T = []; # collect(range(0.01, 10.0, length=20));\n",
    "ℓ = ones(1);\n",
    "\n",
    "\n",
    "x, δ, Mag, Perc, p, Nv = DiffSim(L, PBC, Basis, therm_runtime, runtime, ℓ, T, 𝒽);\n",
    "D, α, C, γ, MSD, VACF = DiffAnalysis(x, δ, p, runtime, ℓ, T, 𝒽);"
   ]
  },
  {
   "cell_type": "code",
   "execution_count": null,
   "id": "7d951ef2-beb5-466e-9fa5-846fbfaf2271",
   "metadata": {},
   "outputs": [],
   "source": [
    "figure()\n",
    "for h in 1:length(x[1][1])\n",
    "    for p in 1:size(x[1][1][h], 2)\n",
    "        plot(x[1][1][h][1,p,:], x[1][1][h][2,p,:])\n",
    "    end\n",
    "end\n",
    "savefig(\"figs/trajectories.png\")"
   ]
  },
  {
   "cell_type": "code",
   "execution_count": null,
   "id": "bc414ed5-a57e-4226-8be1-764dd56c9d89",
   "metadata": {},
   "outputs": [],
   "source": [
    "colors = jetmap(length(𝒽))"
   ]
  },
  {
   "cell_type": "code",
   "execution_count": null,
   "id": "a96ee7ca-a2c0-4135-ab76-d6ab858fb537",
   "metadata": {},
   "outputs": [],
   "source": [
    "Mag = mean(Mag, dims=3)\n",
    "\n",
    "figure()\n",
    "for i in eachindex(𝒽)\n",
    "    if length(T) > 0\n",
    "        scatter(T, Mag[:,i], color=colors[i])\n",
    "        plot(T, Magnetisation(T, 𝒽[i], z), color=colors[i])\n",
    "    elseif length(ℓ) > 0\n",
    "        scatter(ℓ, Mag[:,i], color=colors[i])\n",
    "    end\n",
    "end\n",
    "savefig(\"figs/Magnetisation.png\")"
   ]
  },
  {
   "cell_type": "code",
   "execution_count": null,
   "id": "98b3bd1c-b9ce-4a35-ac28-cd4bad65703e",
   "metadata": {},
   "outputs": [],
   "source": [
    "Perc = mean(Perc, dims=3)\n",
    "\n",
    "figure()\n",
    "for i in eachindex(𝒽)\n",
    "    if length(T) > 0\n",
    "        scatter(T, Perc[:,i], color=colors[i])\n",
    "    elseif length(ℓ) > 0\n",
    "        scatter(ℓ, Perc[:,i], color=colors[i])\n",
    "    end\n",
    "end\n",
    "\n",
    "savefig(\"figs/Percolation.png\")"
   ]
  },
  {
   "cell_type": "code",
   "execution_count": null,
   "id": "f2720c1d-dab4-4e4f-994b-24b54d2c970c",
   "metadata": {},
   "outputs": [],
   "source": [
    "figure()\n",
    "for t in 1:size(MSD, 2)\n",
    "    for i in 1:size(MSD, 3)\n",
    "        if MSD[tau,t,i] != [NaN for _ in 1:size(MSD, 1)]\n",
    "            #loglog(MSD[:,t,i], color=colors[i])\n",
    "            plot(MSD[tau,t,i], color=colors[i])\n",
    "        end\n",
    "    end\n",
    "end\n",
    "plot(2 .* length(L) .* D[1] .* tau .^ α[1], color=:black, \"--\")\n",
    "savefig(\"figs/MSD.png\")"
   ]
  },
  {
   "cell_type": "code",
   "execution_count": null,
   "id": "62f17f2a-e5aa-49aa-9785-9a06913a7451",
   "metadata": {},
   "outputs": [],
   "source": [
    "# step direction autocorrelation\n",
    "figure()\n",
    "for t in 1:size(VACF, 2)\n",
    "    for i in 1:size(VACF, 3)\n",
    "        if VACF[tau,t,i] != [NaN for _ in 1:size(VACF, 1)]\n",
    "            #loglog(abs.(VACF[:,t,i]), color=colors[i])\n",
    "            plot(VACF[tau,t,i], color=colors[i])\n",
    "        end\n",
    "    end\n",
    "end\n",
    "sgn = sign(VACF[findmax(abs.(VACF[:,1,1]))[2],1,1])\n",
    "plot(sgn .* length(L) .* abs(C[1]) .* tau .^ γ[1], color=:black, \"--\")\n",
    "savefig(\"figs/VACF.png\")"
   ]
  },
  {
   "cell_type": "code",
   "execution_count": null,
   "id": "9df550e5-be67-4af1-adb6-bd5bb55af6c7",
   "metadata": {},
   "outputs": [],
   "source": [
    "# estimate based on assuming the number of particles is <ϵ_i>/2λ/2 in single vertex approxn\n",
    "figure() # density of quasiparticles\n",
    "p = mean(p, dims=3) ./ Nv\n",
    "if length(T) > 0\n",
    "    for i in eachindex(𝒽)\n",
    "        scatter(T, p[:,i], color=colors[i])\n",
    "        plot(T, ExcitationDensity(T, 𝒽[i], z), color=colors[i])\n",
    "    end\n",
    "elseif length(ℓ) > 0\n",
    "    pExp = 2 .* ℓ ./ Nv\n",
    "    for i in eachindex(𝒽)\n",
    "        scatter(ℓ, p[:,i], color=colors[i])\n",
    "    end\n",
    "    plot(ℓ, pExp, color=:black, \"--\")\n",
    "end\n",
    "savefig(\"figs/Quasiparticle Number.png\")"
   ]
  },
  {
   "cell_type": "code",
   "execution_count": null,
   "id": "d95e0c40-a4b1-4e05-aabc-3c89e1ad2a7c",
   "metadata": {},
   "outputs": [],
   "source": [
    "figure() # msd diffusion coefficient\n",
    "if length(T) > 0\n",
    "    for i in eachindex(𝒽)\n",
    "        plot(T[2:end], 2 .* length(L) .* Dfun(T[2:end], 𝒽[i]), color=colors[i])\n",
    "        \n",
    "        plotWithError(D[1,:,i], T, colors[i], \".\", \"\" , D[2,:,i])\n",
    "    end\n",
    "elseif length(ℓ) > 0\n",
    "    plot(ℓ, Dself .* (1 .- 2 .* ℓ ./ Nv), color=:black)\n",
    "    for i in eachindex(𝒽)\n",
    "        plotWithError(D[1,:,i], ℓ, colors[i], \".\", \"\" , D[2,:,i])\n",
    "    end\n",
    "end\n",
    "savefig(\"figs/MSD_Coefficient.png\")"
   ]
  },
  {
   "cell_type": "code",
   "execution_count": null,
   "id": "9e1865fa-5717-48b1-ae09-1e1a7a88b6f4",
   "metadata": {},
   "outputs": [],
   "source": [
    "figure() # msd diffusion exponent\n",
    "if length(T) > 1\n",
    "    for i in eachindex(𝒽)\n",
    "        plotWithError(α[1,:,i], T, colors[i], \".\", \"\" , α[2,:,i])\n",
    "    end\n",
    "elseif length(ℓ) > 0\n",
    "    for i in eachindex(𝒽)\n",
    "        plotWithError(α[1,:,i], ℓ, colors[i], \".\", \"\" , α[2,:,i])\n",
    "    end\n",
    "end\n",
    "savefig(\"figs/MSD_Exponent.png\")"
   ]
  },
  {
   "cell_type": "code",
   "execution_count": null,
   "id": "c4ecdc43-66cc-42c1-a31f-6e2b47c074c8",
   "metadata": {},
   "outputs": [],
   "source": [
    "figure() # vacf diffusion coefficient\n",
    "if length(T) > 0\n",
    "    for i in eachindex(𝒽)\n",
    "        plot(T[2:end], length(L) .* Dfun(T[2:end], 𝒽[i]), color=colors[i])\n",
    "        \n",
    "        plotWithError(C[1,:,i], T, colors[i], \".\", \"\" , D[2,:,i])\n",
    "    end\n",
    "elseif length(ℓ) > 0\n",
    "    plot(ℓ, Dself .* (1 .- 2 .* ℓ ./ Nv), color=:black)\n",
    "    for i in eachindex(𝒽)\n",
    "        plotWithError(C[1,:,i], ℓ, colors[i], \".\", \"\" , D[2,:,i])\n",
    "    end\n",
    "end\n",
    "savefig(\"figs/VACF_Coefficient.png\")"
   ]
  },
  {
   "cell_type": "code",
   "execution_count": null,
   "id": "cf7e486f-8f9a-4a3e-9389-013faa8c6240",
   "metadata": {},
   "outputs": [],
   "source": [
    "figure() # vacf diffusion exponent\n",
    "if length(T) > 1\n",
    "    for i in eachindex(𝒽)\n",
    "        plotWithError(γ[1,:,i], T, colors[i], \".\", \"\" , α[2,:,i])\n",
    "    end\n",
    "elseif length(ℓ) > 0\n",
    "    for i in eachindex(𝒽)\n",
    "        plotWithError(γ[1,:,i], ℓ, colors[i], \".\", \"\" , α[2,:,i])\n",
    "    end\n",
    "end\n",
    "savefig(\"figs/VACF_Exponent.png\")"
   ]
  },
  {
   "cell_type": "code",
   "execution_count": null,
   "id": "11042670-34fe-4d7e-ab14-e45420c02058",
   "metadata": {},
   "outputs": [],
   "source": [
    "print(\"D = \", D[1,1,1], \" ± \", D[2,1,1], \"\\n\\n\")\n",
    "print(\"α = \", α[1,1,1], \" ± \", α[2,1,1], \"\\n\\n\")\n",
    "print(\"C = \", C[1,1,1], \" ± \", C[2,1,1], \"\\n\\n\")\n",
    "print(\"γ = \", γ[1,1,1], \" ± \", γ[2,1,1], \"\\n\\n\")"
   ]
  },
  {
   "cell_type": "code",
   "execution_count": null,
   "id": "d25da386-fbb7-4c1e-aabb-cdd0e6de3de8",
   "metadata": {},
   "outputs": [],
   "source": [
    "save(\"data/MicroDiff.jld\", \"Size\", L,\n",
    "                           \"Fields\", 𝒽,\n",
    "                           \"num_histories\", num_histories,\n",
    "                           \"therm_runtime\", therm_runtime,\n",
    "                           \"runtime\", runtime,\n",
    "                           \"tau\", tau,\n",
    "                           \"basis\", Basis,\n",
    "                           \"lambda\", λ,\n",
    "                           \"xi\", ξ,\n",
    "                           \"EnergyQuantisation\", δE,\n",
    "                           \"Dself\", Dself,\n",
    "                           \"twoFlip\", twoFlip,\n",
    "                           \"Temperature\", T,\n",
    "                           \"NumFlippedEdges\", ℓ,\n",
    "                           \"MSD\", MSD,\n",
    "                           \"VACF\", VACF,\n",
    "                           \"D\", D,\n",
    "                           \"alpha\", α,\n",
    "                           \"C\", C,\n",
    "                           \"gamma\", γ)"
   ]
  },
  {
   "cell_type": "code",
   "execution_count": null,
   "id": "e57d751d-ab14-4eb2-a351-a7e40c042c97",
   "metadata": {},
   "outputs": [],
   "source": [
    "t4 = now()\n",
    "print(\"\\n\", canonicalize(t4 - t3))"
   ]
  },
  {
   "cell_type": "code",
   "execution_count": null,
   "id": "8f913edc-aacd-4c3d-b84a-c41d655d4201",
   "metadata": {},
   "outputs": [],
   "source": [
    "print(\"\\nTOTAL RUNTIME = \", canonicalize(t4 - t0))"
   ]
  },
  {
   "cell_type": "code",
   "execution_count": null,
   "id": "61285764-85c8-4398-be7f-d5dc22c323fd",
   "metadata": {},
   "outputs": [],
   "source": [
    "close(\"all\") "
   ]
  }
 ],
 "metadata": {
  "jupytext": {
   "encoding": "# -*- coding: utf-8 -*-",
   "formats": "ipynb,jl:light"
  },
  "kernelspec": {
   "display_name": "Julia (6 threads) 1.8.2",
   "language": "julia",
   "name": "julia-(6-threads)-1.8"
  },
  "language_info": {
   "file_extension": ".jl",
   "mimetype": "application/julia",
   "name": "julia",
   "version": "1.8.2"
  },
  "toc-autonumbering": false,
  "toc-showcode": true,
  "toc-showmarkdowntxt": false
 },
 "nbformat": 4,
 "nbformat_minor": 5
}
